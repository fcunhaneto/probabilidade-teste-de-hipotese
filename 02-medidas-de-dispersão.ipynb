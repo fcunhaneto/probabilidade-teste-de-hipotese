{
 "cells": [
  {
   "metadata": {},
   "cell_type": "markdown",
   "source": "# Medidas de Centralidade",
   "id": "2248b00c55fb34a8"
  },
  {
   "metadata": {},
   "cell_type": "markdown",
   "source": [
    "<font size=\"4\">\n",
    "\n",
    "1. Desvio Médio\n",
    "\n",
    "2. Variância\n",
    "\n",
    "3. Desvio Padrão\n",
    "\n",
    "</font>"
   ],
   "id": "eab9c10004d1d3e3"
  },
  {
   "metadata": {},
   "cell_type": "markdown",
   "source": [
    "Atendentes de uma empresa, amostra dos tempos de atendimento:\n",
    "\n",
    "atendente 1 = [15, 14, 13, 16, 15]\n",
    "\n",
    "atendente 2 = [10, 15, 10, 12, 10]"
   ],
   "id": "4a3348a33fcc670e"
  },
  {
   "metadata": {},
   "cell_type": "markdown",
   "source": "## Cálculos",
   "id": "62c97eccb6db3ed3"
  },
  {
   "metadata": {
    "ExecuteTime": {
     "end_time": "2025-03-02T17:14:59.160257Z",
     "start_time": "2025-03-02T17:14:59.158369Z"
    }
   },
   "cell_type": "code",
   "source": [
    "import pandas as pd\n",
    "import numpy as np"
   ],
   "id": "61c4a43e83e98aac",
   "outputs": [],
   "execution_count": 11
  },
  {
   "metadata": {
    "ExecuteTime": {
     "end_time": "2025-03-02T17:15:00.489372Z",
     "start_time": "2025-03-02T17:15:00.487412Z"
    }
   },
   "cell_type": "code",
   "source": [
    "atendente_1 = [15, 14, 13, 16, 15]\n",
    "atendente_2 = [10, 15, 10, 12, 10]"
   ],
   "id": "4f2150c0706caa41",
   "outputs": [],
   "execution_count": 12
  },
  {
   "metadata": {
    "ExecuteTime": {
     "end_time": "2025-03-02T17:15:01.434829Z",
     "start_time": "2025-03-02T17:15:01.432043Z"
    }
   },
   "cell_type": "code",
   "source": [
    "atendente_1 = pd.Series(atendente_1)\n",
    "atendente_1"
   ],
   "id": "d5b51f74f1da26f5",
   "outputs": [
    {
     "data": {
      "text/plain": [
       "0    15\n",
       "1    14\n",
       "2    13\n",
       "3    16\n",
       "4    15\n",
       "dtype: int64"
      ]
     },
     "execution_count": 13,
     "metadata": {},
     "output_type": "execute_result"
    }
   ],
   "execution_count": 13
  },
  {
   "metadata": {},
   "cell_type": "code",
   "outputs": [],
   "execution_count": null,
   "source": [
    "atendente_2 = pd.Series(atendente_2)\n",
    "atendente_2"
   ],
   "id": "44ba77c68cfc15d0"
  },
  {
   "metadata": {
    "ExecuteTime": {
     "end_time": "2025-03-02T17:35:47.973700Z",
     "start_time": "2025-03-02T17:35:47.971579Z"
    }
   },
   "cell_type": "code",
   "source": [
    "print('Atendente 1 média = ', atendente_1.mean())\n",
    "print('Atendente 2 média = ', atendente_2.mean())"
   ],
   "id": "37bae3ae0d7ca0c0",
   "outputs": [
    {
     "name": "stdout",
     "output_type": "stream",
     "text": [
      "Atendente 1 média =  14.6\n",
      "Atendente 2 média =  11.4\n"
     ]
    }
   ],
   "execution_count": 25
  },
  {
   "metadata": {},
   "cell_type": "markdown",
   "source": "## Desvio Médio",
   "id": "f8adb1bf04207915"
  },
  {
   "metadata": {},
   "cell_type": "markdown",
   "source": "Descobrir o quão fiel à média 14,6 é do conjunto [15, 14, 13, 16, 15]",
   "id": "253ede78515caf71"
  },
  {
   "metadata": {},
   "cell_type": "markdown",
   "source": "$\\text{desvio médio = }\\Large\\frac{\\sum_{i}^{n} |x_{i} - \\bar{x}|}{n}$",
   "id": "511ba31cedc3e7b6"
  },
  {
   "metadata": {},
   "cell_type": "markdown",
   "source": "## Cálculos",
   "id": "c39dc38c99072456"
  },
  {
   "metadata": {
    "ExecuteTime": {
     "end_time": "2025-03-02T17:36:39.776609Z",
     "start_time": "2025-03-02T17:36:39.774121Z"
    }
   },
   "cell_type": "code",
   "source": [
    "dm1 = (atendente_1 - atendente_1.mean()).abs().mean()\n",
    "dm2 = (atendente_2 - atendente_2.mean()).abs().mean()\n",
    "print('atendente 1 desvio médio = ', dm1)\n",
    "print('atendente 2 desvio médio = ', dm2)"
   ],
   "id": "238a5e97de5f8abf",
   "outputs": [
    {
     "name": "stdout",
     "output_type": "stream",
     "text": [
      "atendente 1 desvio médio =  0.8800000000000001\n",
      "atendente 2 desvio médio =  1.6800000000000002\n"
     ]
    }
   ],
   "execution_count": 26
  },
  {
   "metadata": {},
   "cell_type": "markdown",
   "source": "## Variância",
   "id": "4290e333583c58d1"
  },
  {
   "metadata": {},
   "cell_type": "markdown",
   "source": "$\\text{variância = }\\sigma^{2} =\\Large \\frac{\\sum_{i}^{n} (x_{i} - \\bar{x})^{2}}{n}$",
   "id": "9ff75282cc8b22ad"
  },
  {
   "metadata": {},
   "cell_type": "markdown",
   "source": "## Cálculos",
   "id": "e4b599d47f5ab0ae"
  },
  {
   "metadata": {
    "ExecuteTime": {
     "end_time": "2025-03-02T17:37:37.883684Z",
     "start_time": "2025-03-02T17:37:37.881217Z"
    }
   },
   "cell_type": "code",
   "source": [
    "va1 = ((atendente_1 - atendente_1.mean())**2).sum()/len(atendente_1)\n",
    "va2 = ((atendente_2 - atendente_2.mean())**2).sum()/len(atendente_2)\n",
    "print('atendente 1 variância = ', va1)\n",
    "print('atendente 2 variância = ', va2)"
   ],
   "id": "15ab59bb9b55e742",
   "outputs": [
    {
     "name": "stdout",
     "output_type": "stream",
     "text": [
      "atendente 1 variância =  1.04\n",
      "atendente 2 variância =  3.84\n"
     ]
    }
   ],
   "execution_count": 27
  },
  {
   "metadata": {},
   "cell_type": "markdown",
   "source": "## Desvio Padrão",
   "id": "5c6125adec804719"
  },
  {
   "metadata": {},
   "cell_type": "markdown",
   "source": "$\\text{desvio padrão = } \\sigma = \\sqrt{\\sigma^{2}}$",
   "id": "6eb21e4eb7baeb03"
  },
  {
   "metadata": {},
   "cell_type": "markdown",
   "source": "## Cálculo",
   "id": "c2bf8493eb084fc6"
  },
  {
   "metadata": {
    "ExecuteTime": {
     "end_time": "2025-03-02T17:38:48.509518Z",
     "start_time": "2025-03-02T17:38:48.507520Z"
    }
   },
   "cell_type": "code",
   "source": [
    "print('atendente 1 desvio padrão = ', np.sqrt(va1).round(2))\n",
    "print('atendente 2 desvio padrão = ', np.sqrt(va2).round(2))"
   ],
   "id": "a911801e0ff73a8d",
   "outputs": [
    {
     "name": "stdout",
     "output_type": "stream",
     "text": [
      "atendente 1 desvio padrão =  1.02\n",
      "atendente 2 desvio padrão =  1.96\n"
     ]
    }
   ],
   "execution_count": 30
  },
  {
   "metadata": {},
   "cell_type": "markdown",
   "source": [
    "## Conclusão\n",
    "\n",
    "O atendente 1 é muito mais constatnte que o atendende 2"
   ],
   "id": "ce6cf7564ad4b22c"
  },
  {
   "metadata": {},
   "cell_type": "code",
   "outputs": [],
   "execution_count": null,
   "source": "",
   "id": "c4dc6d158a797fbf"
  }
 ],
 "metadata": {
  "kernelspec": {
   "display_name": "Python 3",
   "language": "python",
   "name": "python3"
  },
  "language_info": {
   "codemirror_mode": {
    "name": "ipython",
    "version": 2
   },
   "file_extension": ".py",
   "mimetype": "text/x-python",
   "name": "python",
   "nbconvert_exporter": "python",
   "pygments_lexer": "ipython2",
   "version": "2.7.6"
  }
 },
 "nbformat": 4,
 "nbformat_minor": 5
}
