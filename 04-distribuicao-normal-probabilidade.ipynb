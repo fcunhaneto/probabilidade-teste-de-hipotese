{
 "cells": [
  {
   "cell_type": "markdown",
   "id": "a813a7fef10cadb8",
   "metadata": {},
   "source": [
    "# Distribuição Norma e probabilidade"
   ]
  },
  {
   "cell_type": "markdown",
   "id": "df2b10a38e99949",
   "metadata": {
    "jp-MarkdownHeadingCollapsed": true
   },
   "source": [
    "## Cálculos Anteriores"
   ]
  },
  {
   "cell_type": "code",
   "execution_count": 12,
   "id": "initial_id",
   "metadata": {
    "ExecuteTime": {
     "end_time": "2025-03-05T12:28:15.945527Z",
     "start_time": "2025-03-05T12:28:15.940925Z"
    },
    "collapsed": true,
    "jupyter": {
     "outputs_hidden": true
    }
   },
   "outputs": [
    {
     "data": {
      "text/html": [
       "<div>\n",
       "<style scoped>\n",
       "    .dataframe tbody tr th:only-of-type {\n",
       "        vertical-align: middle;\n",
       "    }\n",
       "\n",
       "    .dataframe tbody tr th {\n",
       "        vertical-align: top;\n",
       "    }\n",
       "\n",
       "    .dataframe thead th {\n",
       "        text-align: right;\n",
       "    }\n",
       "</style>\n",
       "<table border=\"1\" class=\"dataframe\">\n",
       "  <thead>\n",
       "    <tr style=\"text-align: right;\">\n",
       "      <th></th>\n",
       "      <th>atendimento</th>\n",
       "    </tr>\n",
       "  </thead>\n",
       "  <tbody>\n",
       "    <tr>\n",
       "      <th>0</th>\n",
       "      <td>1.0</td>\n",
       "    </tr>\n",
       "    <tr>\n",
       "      <th>1</th>\n",
       "      <td>3.5</td>\n",
       "    </tr>\n",
       "    <tr>\n",
       "      <th>2</th>\n",
       "      <td>3.7</td>\n",
       "    </tr>\n",
       "    <tr>\n",
       "      <th>3</th>\n",
       "      <td>3.8</td>\n",
       "    </tr>\n",
       "    <tr>\n",
       "      <th>4</th>\n",
       "      <td>4.0</td>\n",
       "    </tr>\n",
       "    <tr>\n",
       "      <th>5</th>\n",
       "      <td>4.0</td>\n",
       "    </tr>\n",
       "    <tr>\n",
       "      <th>6</th>\n",
       "      <td>5.5</td>\n",
       "    </tr>\n",
       "    <tr>\n",
       "      <th>7</th>\n",
       "      <td>5.5</td>\n",
       "    </tr>\n",
       "    <tr>\n",
       "      <th>8</th>\n",
       "      <td>5.6</td>\n",
       "    </tr>\n",
       "    <tr>\n",
       "      <th>9</th>\n",
       "      <td>5.6</td>\n",
       "    </tr>\n",
       "    <tr>\n",
       "      <th>10</th>\n",
       "      <td>5.8</td>\n",
       "    </tr>\n",
       "    <tr>\n",
       "      <th>11</th>\n",
       "      <td>5.8</td>\n",
       "    </tr>\n",
       "    <tr>\n",
       "      <th>12</th>\n",
       "      <td>5.9</td>\n",
       "    </tr>\n",
       "    <tr>\n",
       "      <th>13</th>\n",
       "      <td>5.9</td>\n",
       "    </tr>\n",
       "    <tr>\n",
       "      <th>14</th>\n",
       "      <td>6.0</td>\n",
       "    </tr>\n",
       "    <tr>\n",
       "      <th>15</th>\n",
       "      <td>6.0</td>\n",
       "    </tr>\n",
       "    <tr>\n",
       "      <th>16</th>\n",
       "      <td>6.0</td>\n",
       "    </tr>\n",
       "    <tr>\n",
       "      <th>17</th>\n",
       "      <td>6.0</td>\n",
       "    </tr>\n",
       "    <tr>\n",
       "      <th>18</th>\n",
       "      <td>6.6</td>\n",
       "    </tr>\n",
       "    <tr>\n",
       "      <th>19</th>\n",
       "      <td>7.0</td>\n",
       "    </tr>\n",
       "    <tr>\n",
       "      <th>20</th>\n",
       "      <td>7.0</td>\n",
       "    </tr>\n",
       "    <tr>\n",
       "      <th>21</th>\n",
       "      <td>7.1</td>\n",
       "    </tr>\n",
       "    <tr>\n",
       "      <th>22</th>\n",
       "      <td>7.1</td>\n",
       "    </tr>\n",
       "    <tr>\n",
       "      <th>23</th>\n",
       "      <td>8.0</td>\n",
       "    </tr>\n",
       "    <tr>\n",
       "      <th>24</th>\n",
       "      <td>9.5</td>\n",
       "    </tr>\n",
       "  </tbody>\n",
       "</table>\n",
       "</div>"
      ],
      "text/plain": [
       "    atendimento\n",
       "0           1.0\n",
       "1           3.5\n",
       "2           3.7\n",
       "3           3.8\n",
       "4           4.0\n",
       "5           4.0\n",
       "6           5.5\n",
       "7           5.5\n",
       "8           5.6\n",
       "9           5.6\n",
       "10          5.8\n",
       "11          5.8\n",
       "12          5.9\n",
       "13          5.9\n",
       "14          6.0\n",
       "15          6.0\n",
       "16          6.0\n",
       "17          6.0\n",
       "18          6.6\n",
       "19          7.0\n",
       "20          7.0\n",
       "21          7.1\n",
       "22          7.1\n",
       "23          8.0\n",
       "24          9.5"
      ]
     },
     "execution_count": 12,
     "metadata": {},
     "output_type": "execute_result"
    }
   ],
   "source": [
    "import numpy as np\n",
    "import pandas as pd\n",
    "\n",
    "atendente_1 = [1, 3.5, 3.7, 3.8, 4, 4, 5.5, 5.5, 5.6, 5.6, 5.8, 5.8, 5.9, 5.9, 6, 6, 6, 6, 6.6, 7, 7, 7.1, 7.1, 8, 9.5]\n",
    "\n",
    "atendente_1 = pd.DataFrame({'atendimento': atendente_1})\n",
    "atendente_1"
   ]
  },
  {
   "cell_type": "code",
   "execution_count": 2,
   "id": "9c4d036f1ebc315e",
   "metadata": {
    "ExecuteTime": {
     "end_time": "2025-03-05T12:27:57.169467Z",
     "start_time": "2025-03-05T12:27:57.161702Z"
    }
   },
   "outputs": [
    {
     "name": "stdout",
     "output_type": "stream",
     "text": [
      "média =  atendimento    5.68\n",
      "dtype: float64\n",
      "mediana =  atendimento    5.9\n",
      "dtype: float64\n",
      "moda =  atendimento    5.9\n",
      "dtype: float64\n",
      "desvio médio =  atendimento    1.16\n",
      "dtype: float64\n",
      "variância =  atendimento    2.75\n",
      "dtype: float64\n",
      "devio padrão =  atendimento    1.66\n",
      "dtype: float64\n"
     ]
    }
   ],
   "source": [
    "media = atendente_1.mean()\n",
    "mediana = atendente_1.median()\n",
    "moda = atendente_1.mode()\n",
    "dm = (atendente_1 - atendente_1.mean()).abs().mean()\n",
    "va = ((atendente_1 - atendente_1.mean())**2).sum()/len(atendente_1)\n",
    "print('média = ', media.round(2))\n",
    "print('mediana = ', mediana)\n",
    "print('moda = ', mediana)\n",
    "print('desvio médio = ', dm.round(2))\n",
    "print('variância = ', va.round(2))\n",
    "print('devio padrão = ', np.sqrt(va).round(2))"
   ]
  },
  {
   "cell_type": "markdown",
   "id": "f6ac5a60dad5f44d",
   "metadata": {},
   "source": [
    "## Distribuição Noramal Padrão"
   ]
  },
  {
   "cell_type": "markdown",
   "id": "6d68240a3dfe86a9",
   "metadata": {},
   "source": [
    "![Distibuição Normal Padrão](imagens/distribuicao-normal-padrao.jpeg)"
   ]
  },
  {
   "cell_type": "markdown",
   "id": "d9cee6664aef3a31",
   "metadata": {},
   "source": [
    "$\\Large \\sigma \\text{ = 1}$\n",
    "\n",
    "$\\Large \\mu \\text{ = 0}$\n",
    "\n",
    "$\\Large \\text{z = }{\\frac{x - \\mu}{\\sigma}}$\n",
    "\n",
    "$\\Large Z_{obs} = \\frac{\\bar{x}- \\mu}{\\frac{\\sigma}{\\sqrt{n}}}$"
   ]
  },
  {
   "cell_type": "markdown",
   "id": "73ced173b12c6ca2",
   "metadata": {},
   "source": [
    "Para x = 5 minutos qual o valor de Z?"
   ]
  },
  {
   "cell_type": "code",
   "execution_count": 3,
   "id": "ee78b89674160b20",
   "metadata": {
    "ExecuteTime": {
     "end_time": "2025-03-05T12:27:57.223760Z",
     "start_time": "2025-03-05T12:27:57.221717Z"
    }
   },
   "outputs": [
    {
     "name": "stdout",
     "output_type": "stream",
     "text": [
      "Z =  -0.41\n"
     ]
    }
   ],
   "source": [
    "Z = (5 - 5.68)/1.66\n",
    "print('Z = ', round(Z, 2))"
   ]
  },
  {
   "cell_type": "markdown",
   "id": "bfcc58ca9f055b43",
   "metadata": {},
   "source": [
    "P(3 < x < 6.5)\n",
    "\n",
    "P(? < Z < ?)"
   ]
  },
  {
   "cell_type": "code",
   "execution_count": 4,
   "id": "15d41f8f2ef2b4dc",
   "metadata": {
    "ExecuteTime": {
     "end_time": "2025-03-05T12:27:57.292283Z",
     "start_time": "2025-03-05T12:27:57.289482Z"
    }
   },
   "outputs": [
    {
     "name": "stdout",
     "output_type": "stream",
     "text": [
      "Z1 =  -1.61\n",
      "Z2 =  0.49\n",
      "P(-1.61 < Z < 0.49)\n"
     ]
    }
   ],
   "source": [
    "Z1 = (3 - 5.68)/1.66\n",
    "Z2 = (6.5 - 5.68)/1.66\n",
    "print('Z1 = ', round(Z1, 2))\n",
    "print('Z2 = ', round(Z2, 2))\n",
    "print('P({0:.2f} < Z < {1:.2f})'.format(Z1, Z2))"
   ]
  },
  {
   "cell_type": "code",
   "execution_count": null,
   "id": "8afc1b6f6de79508",
   "metadata": {
    "ExecuteTime": {
     "end_time": "2025-03-05T12:27:57.357067Z",
     "start_time": "2025-03-05T12:27:57.355691Z"
    }
   },
   "outputs": [],
   "source": []
  },
  {
   "cell_type": "markdown",
   "id": "3161c9ef3b70feb3",
   "metadata": {},
   "source": [
    "P(-1.61) = 0,4463\n",
    "\n",
    "P(0.49) = 0,1879"
   ]
  },
  {
   "cell_type": "code",
   "execution_count": 5,
   "id": "d0f3250cfc5d60d5",
   "metadata": {
    "ExecuteTime": {
     "end_time": "2025-03-05T12:27:57.402711Z",
     "start_time": "2025-03-05T12:27:57.400397Z"
    }
   },
   "outputs": [
    {
     "name": "stdout",
     "output_type": "stream",
     "text": [
      "Probabilidade de estar entre os valores 3 e 6.5) = 64.00%\n"
     ]
    }
   ],
   "source": [
    "p = 0.4463 + 0.189\n",
    "P = round(p, 2) * 100\n",
    "print('Probabilidade de estar entre os valores 3 e 6.5) = {0:.2f}%'.format(P))"
   ]
  },
  {
   "cell_type": "markdown",
   "id": "6eb03c684da8c871",
   "metadata": {},
   "source": [
    "Sabendo que a distribuição dos dados se aproxima de uma distribuição normal com média igual 15 minutos e desvio padrão igual 2 minutos, qual a probabilidade de o cliente ser atendido:\n",
    "\n",
    "A) Entre 13 e 17.5 minutos;\n",
    "\n",
    "B) Entre um tempo menor do que 15,6 minutos;\n",
    "\n",
    "C) Ser maior que 18 minutos."
   ]
  },
  {
   "cell_type": "markdown",
   "id": "c63cf7fa02b893b8",
   "metadata": {},
   "source": [
    "Cálculo letra A"
   ]
  },
  {
   "cell_type": "code",
   "execution_count": 6,
   "id": "29413df31d5bbb59",
   "metadata": {
    "ExecuteTime": {
     "end_time": "2025-03-05T12:27:57.449488Z",
     "start_time": "2025-03-05T12:27:57.446812Z"
    }
   },
   "outputs": [
    {
     "name": "stdout",
     "output_type": "stream",
     "text": [
      "Z1 =  -1.0\n",
      "Z2 =  1.25\n",
      "P(-1.00 < Z < 1.25)\n"
     ]
    }
   ],
   "source": [
    "Z1 = (13 - 15) / 2\n",
    "Z2 = (17.5 - 15) / 2\n",
    "print('Z1 = ', round(Z1, 2))\n",
    "print('Z2 = ', round(Z2, 2))\n",
    "print('P({0:.2f} < Z < {1:.2f})'.format(Z1, Z2))"
   ]
  },
  {
   "cell_type": "code",
   "execution_count": 7,
   "id": "2472eefab68bbcdd",
   "metadata": {
    "ExecuteTime": {
     "end_time": "2025-03-05T12:27:57.496005Z",
     "start_time": "2025-03-05T12:27:57.493655Z"
    }
   },
   "outputs": [
    {
     "name": "stdout",
     "output_type": "stream",
     "text": [
      "Probabilidade de estar entre os valores 13 e 17.5) = 74.00%\n"
     ]
    }
   ],
   "source": [
    "A1 = 0.3413\n",
    "A2 = 0.3944\n",
    "p = A1 + A2\n",
    "P = round(p, 2) * 100\n",
    "print('Probabilidade de estar entre os valores 13 e 17.5) = {0:.2f}%'.format(P))"
   ]
  },
  {
   "cell_type": "markdown",
   "id": "22672a8116cbee15",
   "metadata": {},
   "source": [
    "Cálculo letra B"
   ]
  },
  {
   "cell_type": "code",
   "execution_count": 8,
   "id": "8fec39171ab9a57b",
   "metadata": {
    "ExecuteTime": {
     "end_time": "2025-03-05T12:27:57.544015Z",
     "start_time": "2025-03-05T12:27:57.541822Z"
    }
   },
   "outputs": [
    {
     "name": "stdout",
     "output_type": "stream",
     "text": [
      "Z =  0.3\n"
     ]
    }
   ],
   "source": [
    "Z = (15.6 - 15)/ 2\n",
    "print('Z = ', round(Z, 4))"
   ]
  },
  {
   "cell_type": "code",
   "execution_count": 9,
   "id": "f8b74d26948116ee",
   "metadata": {
    "ExecuteTime": {
     "end_time": "2025-03-05T12:27:57.591161Z",
     "start_time": "2025-03-05T12:27:57.588745Z"
    }
   },
   "outputs": [
    {
     "name": "stdout",
     "output_type": "stream",
     "text": [
      "Probabilidade de estar abaixo de 15,6 minutos = 62.00%\n"
     ]
    }
   ],
   "source": [
    "A1 = 0.1179\n",
    "A2 = 0.5\n",
    "p = 0.5 + 0.1179\n",
    "P = round(p, 2) * 100\n",
    "print('Probabilidade de estar abaixo de 15,6 minutos = {0:.2f}%'.format(P))"
   ]
  },
  {
   "cell_type": "markdown",
   "id": "7c48db3ddfcbba9d",
   "metadata": {},
   "source": [
    "Cálculo letra C"
   ]
  },
  {
   "cell_type": "code",
   "execution_count": 10,
   "id": "3f1fb621bd2f3c7b",
   "metadata": {
    "ExecuteTime": {
     "end_time": "2025-03-05T12:27:57.638092Z",
     "start_time": "2025-03-05T12:27:57.635547Z"
    }
   },
   "outputs": [
    {
     "name": "stdout",
     "output_type": "stream",
     "text": [
      "Z =  1.5\n"
     ]
    }
   ],
   "source": [
    "Z = (18 - 15)/ 2\n",
    "print('Z = ', round(Z, 4))"
   ]
  },
  {
   "cell_type": "code",
   "execution_count": 11,
   "id": "d70ac03bdec0f04b",
   "metadata": {
    "ExecuteTime": {
     "end_time": "2025-03-05T12:27:57.686131Z",
     "start_time": "2025-03-05T12:27:57.683596Z"
    }
   },
   "outputs": [
    {
     "name": "stdout",
     "output_type": "stream",
     "text": [
      "Probabilidade de estar acima de 18 minutosminutos = 7.00%\n"
     ]
    }
   ],
   "source": [
    "# noinspection PyRedeclaration\n",
    "A1 = 0.4332\n",
    "A2 = 0.5\n",
    "p = A2 - A1\n",
    "P = round(p, 2) * 100\n",
    "print('Probabilidade de estar acima de 18 minutosminutos = {0:.2f}%'.format(P))"
   ]
  },
  {
   "cell_type": "code",
   "execution_count": null,
   "id": "65ec0c5527a75ef8",
   "metadata": {
    "ExecuteTime": {
     "end_time": "2025-03-05T12:27:57.731291Z",
     "start_time": "2025-03-05T12:27:57.729840Z"
    }
   },
   "outputs": [],
   "source": []
  }
 ],
 "metadata": {
  "kernelspec": {
   "display_name": "Python 3 (ipykernel)",
   "language": "python",
   "name": "python3"
  },
  "language_info": {
   "codemirror_mode": {
    "name": "ipython",
    "version": 3
   },
   "file_extension": ".py",
   "mimetype": "text/x-python",
   "name": "python",
   "nbconvert_exporter": "python",
   "pygments_lexer": "ipython3",
   "version": "3.12.9"
  }
 },
 "nbformat": 4,
 "nbformat_minor": 5
}
