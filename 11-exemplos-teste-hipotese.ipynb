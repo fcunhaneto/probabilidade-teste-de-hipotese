{
 "cells": [
  {
   "cell_type": "markdown",
   "id": "ef6b8673b3b79da2",
   "metadata": {},
   "source": [
    "# Exemplos de Teste de Hipótese"
   ]
  },
  {
   "cell_type": "markdown",
   "id": "6d9a31934ccfd795",
   "metadata": {},
   "source": [
    "## Teste Z para média"
   ]
  },
  {
   "cell_type": "markdown",
   "id": "17e9176dba3b31cf",
   "metadata": {},
   "source": [
    "Em um anúncio, uma pizzaria alega que o tempo médio de entrega é inferior a 30 minutos. O gerente da pizzaria foi questionado sobre a veracidade da afirmação e por isso resolveu solicitar a um analista de dados que verifica-se a situação. O analista coletou aleatoriamente uma amostra com 36 tempos de entrega e observou uma média amostral de 28,5 minutos. Sabe-se, de estudos anteriores, que o desvio padrão da entrega é de 3,5 minutos. Há evidências suficientes para confirmar a alegação com um nível de significância de 1%."
   ]
  },
  {
   "cell_type": "markdown",
   "id": "ae06705b0f2c6e0a",
   "metadata": {},
   "source": [
    "<span style=\"color:red\">H<sub>a</sub></span> < 30\n",
    "\n",
    "<span style=\"color:blue\">H<sub>0</sub></span> $\\geqslant$ 30\n",
    "\n",
    "n = 36 minutos\n",
    "\n",
    "$\\sigma$ = 3.5 minutos\n",
    "\n",
    "$\\alpha$ = 1% = 0.01\n",
    "\n",
    "$\\text{Z = }\\frac{(36 - 30)}{\\frac{3.5}{\\sqrt{36}}}$"
   ]
  },
  {
   "cell_type": "code",
   "execution_count": 1,
   "id": "e70e53e9e97057d6",
   "metadata": {
    "ExecuteTime": {
     "end_time": "2025-03-06T14:07:31.502355Z",
     "start_time": "2025-03-06T14:07:31.499952Z"
    }
   },
   "outputs": [
    {
     "name": "stdout",
     "output_type": "stream",
     "text": [
      "Zobservado =  2.5714285714285716\n"
     ]
    }
   ],
   "source": [
    "import math\n",
    "\n",
    "Zo = (28.5 - 30)*math.sqrt(36)/3.5\n",
    "print('Zobservado = ', Zo*(-1))"
   ]
  },
  {
   "cell_type": "code",
   "execution_count": 2,
   "id": "1c6957eed7316eee",
   "metadata": {
    "ExecuteTime": {
     "end_time": "2025-03-06T14:07:31.558166Z",
     "start_time": "2025-03-06T14:07:31.556276Z"
    }
   },
   "outputs": [
    {
     "name": "stdout",
     "output_type": "stream",
     "text": [
      "Pesquisar na tabela área =  0.49\n",
      "\n"
     ]
    }
   ],
   "source": [
    "A1 = 0.5 - 0.01\n",
    "print('Pesquisar na tabela área = ', A1)\n",
    "print()"
   ]
  },
  {
   "cell_type": "markdown",
   "id": "25afcfba-6a69-4680-a4ea-c07843bc6fb5",
   "metadata": {},
   "source": [
    "**Z<sub>critico</sub> = 2.33**\n",
    "\n",
    "**Z<sub>observado</sub> =  2.5714285714285716**\n",
    "\n",
    "**Z<sub>observado</sub> > Z<sub>critico</sub> cai na área crítica então rejeitar H<sub>0</sub>**\n",
    "\n",
    "Resposta:\n",
    "\n",
    "**Há evidências que o tempo médio de entrega é inferior a 30 minutos, com um nível de significância de 1%.**"
   ]
  },
  {
   "cell_type": "markdown",
   "id": "4a3d420e907f4b10",
   "metadata": {},
   "source": [
    "## Teste t Student para a média"
   ]
  },
  {
   "cell_type": "markdown",
   "id": "b7c83b036a984348",
   "metadata": {},
   "source": [
    "Um vendedor de motocicleta afirma que o preço médio do modelo Honda CG Titan é de pelo menos R\\\\$ 16.500,00. Vôce suspeita da alegação e investiga o preço pela internet de uma amostra aleatória de 14 motocicletas do modelo, concluindo que o preço médio do estudo foi de R\\\\$ 15.700,00 e desvio padrão R\\\\$ 1250,00. Há evidêmcias suficientes para rejeitar a alegação do vendedor a um nível de significância de 5%? Suponha que a população seja normalmente distribuida."
   ]
  },
  {
   "cell_type": "markdown",
   "id": "159275be4f9a340b",
   "metadata": {},
   "source": [
    "<span style=\"color:blue\">H<sub>0</sub></span> $\\geqslant $ 16.500\n",
    "\n",
    "<span style=\"color:red\">H<sub>a</sub></span> $\\lt$ 16500\n",
    "\n",
    "n = 14 $\\Longrightarrow $ n < 30 usar a distribuição t Student\n",
    "\n",
    "gl = 14 - 1 = 13\n",
    "\n",
    "$\\bar{x} $ = 15.700\n",
    "\n",
    "$\\sigma$ = 1.250\n",
    "\n",
    "$\\alpha$ = 0,05\n",
    "\n",
    "t<sub>crítico</sub> = -1,771\n"
   ]
  },
  {
   "cell_type": "markdown",
   "id": "10729eabef9cbca2",
   "metadata": {},
   "source": [
    "(15.700 - 16.500)$\\sqrt{14}$/1250"
   ]
  },
  {
   "cell_type": "code",
   "execution_count": 3,
   "id": "fa6dbca7762d073a",
   "metadata": {
    "ExecuteTime": {
     "end_time": "2025-03-06T14:07:31.623467Z",
     "start_time": "2025-03-06T14:07:31.621769Z"
    }
   },
   "outputs": [
    {
     "name": "stdout",
     "output_type": "stream",
     "text": [
      "t observado =  -2.394660727535322\n"
     ]
    }
   ],
   "source": [
    "to = (15700 - 16500)*math.sqrt(14)/1250\n",
    "print('t observado = ', to)"
   ]
  },
  {
   "cell_type": "markdown",
   "id": "9e5299a54364e4c4",
   "metadata": {},
   "source": [
    "**t<sub>critico</sub> = 1.771**\n",
    "\n",
    "**t<sub>observado</sub> =  2.346**\n",
    "\n",
    "**t<sub>observado</sub> > t<sub>crítico</sub> cai na região crítica então rejeito H<sub>0</sub>**\n",
    "\n",
    "Resposta:\n",
    "\n",
    "**Ao nível de significância de 5% não a evidência de que a média do preço é maior ou igual 16.500,00**"
   ]
  },
  {
   "cell_type": "markdown",
   "id": "3147809b-1a0e-4a53-a9be-ead74ebff5ce",
   "metadata": {},
   "source": [
    "## Teste de Z para Proporção"
   ]
  },
  {
   "cell_type": "markdown",
   "id": "f56845f8af95ab88",
   "metadata": {},
   "source": [
    "Um pesquisador alega que menos de 20% dos adultos brasileiros alérgicos a um medicamento. Em uma amostra aleatória de 100 adultos, 15 disseram ter esse tipo de alergia. Teste a alegação do pesquisador com um nível de significância de 1%."
   ]
  },
  {
   "cell_type": "markdown",
   "id": "9bc5bff4a6742247",
   "metadata": {},
   "source": [
    "0n.p = 100 x 20 = 20\n",
    "\n",
    "$\\text{n(1- p)}\\geqslant 5 = 100(1 -.20) = 80 \\geqslant 30$\n",
    "\n",
    "n.p $\\geqslant$ 5 $\\Longrightarrow$ posso usar a normal\n",
    "\n",
    "n(1 - p) $\\Longrightarrow$ 5 posso usara a normal\n",
    "\n",
    "<span style=\"color:blue\">H<sub>0</sub></span> $\\geqslant $ 0.80\n",
    "\n",
    "<span style=\"color:red\">H<sub>a</sub></span> $\\lt$  0,20\n",
    "\n",
    "n = 100\n",
    "\n",
    "$\\hat{p} = \\frac{15}{100} = 0.15$\n",
    "\n",
    "$\\text{Z = }\\Large \\frac{\\hat{p} - p}{\\sqrt{\\frac{p(1 - p)}{n}}}$"
   ]
  },
  {
   "cell_type": "code",
   "execution_count": 4,
   "id": "865b557ed2bb4654",
   "metadata": {
    "ExecuteTime": {
     "end_time": "2025-03-06T14:07:31.674479Z",
     "start_time": "2025-03-06T14:07:31.672083Z"
    }
   },
   "outputs": [
    {
     "name": "stdout",
     "output_type": "stream",
     "text": [
      "q =  -0.05\n",
      "d =  0.04\n",
      "Z critico =  -1.25\n"
     ]
    }
   ],
   "source": [
    "q = 0.15 - 0.20\n",
    "d = math.sqrt( ( 0.20 * (1 - 0.2 ) ) / 100 )\n",
    "print('q = ', round(q, 4))\n",
    "print('d = ', round(d, 4))\n",
    "Z = q / d\n",
    "print('Z critico = ', round(Z, 4))"
   ]
  },
  {
   "cell_type": "markdown",
   "id": "b9ff1a8f36204230",
   "metadata": {},
   "source": [
    "Z<sub>critico</sub> = -2.325\n",
    "\n",
    "Z<sub>observado</sub> = -1.25\n",
    "\n",
    "Com um nível de significância de 1% não há evidências que menos de 20% dos adultos são alérgicos ao medicamento.\n"
   ]
  },
  {
   "cell_type": "markdown",
   "id": "ceb9bde80f5877d8",
   "metadata": {},
   "source": [
    "## Teste de hipótese para a diferença das médias"
   ]
  },
  {
   "cell_type": "markdown",
   "id": "13478cf543def848",
   "metadata": {},
   "source": [
    "Hś uma crença que diz que o volume de venda médio (em R\\\\$) dos vendedores de uma empresa de SP é o mesmo que dos vendedores da filial do RJ. Teste ao nível de significância de 5% a vereacidade dessa afirmação.\n",
    "\n",
    "|         SP         |         RJ         |\n",
    "|:-------------------|:-------------------|\n",
    "|      n = 100       |      n = 100       |\n",
    "| $\\bar{x}$ = 60.900 | $\\bar{x}$ = 64.300 |\n",
    "|     S = 12.000     |     S = 15.000     |\n",
    "\n",
    "\n",
    "<span style=\"color:red\">H<sub>0</sub></span> $\\mu_{sp}\\text{ = }\\mu_{rj}$\n",
    "\n",
    "<span style=\"color:blue\">H<sub>a</sub></span> $\\mu_{sp}\\ \\cong \\mu_{rj}$\n",
    "\n",
    "<span style=\"color:red\">H<sub>0</sub></span> $\\mu_{sp} - \\mu_{rj} \\text{ = 0}$\n",
    "\n",
    "<span style=\"color:blue\">H<sub>a</sub></span> $\\mu_{sp} - \\mu_{rj} \\cong \\text{ 0}$\n",
    "\n",
    "\n",
    "\n"
   ]
  },
  {
   "cell_type": "markdown",
   "id": "214efdee149b26db",
   "metadata": {},
   "source": [
    "$\\Large \\text{Z = }\\frac{(x_{1} - x_{2}) - (\\mu_{1} - \\mu_{2})}{\\sqrt{\\frac{S_{1}^{2}}{n_{1}} + \\frac{S_{2}^{2}}{n_{2}}}}$"
   ]
  },
  {
   "cell_type": "markdown",
   "id": "f73686036d887603",
   "metadata": {},
   "source": [
    "$\\Large \\text{Z = }\\frac{(60.900 - 64.300) - (0)}{\\sqrt{\\frac{\\text{12.000}²}{100} + \\frac{\\text{15.000}²}{100}}}$"
   ]
  },
  {
   "cell_type": "code",
   "execution_count": 5,
   "id": "e96fa77957365ed4",
   "metadata": {
    "ExecuteTime": {
     "end_time": "2025-03-06T14:07:31.728548Z",
     "start_time": "2025-03-06T14:07:31.726476Z"
    }
   },
   "outputs": [
    {
     "name": "stdout",
     "output_type": "stream",
     "text": [
      "q =  -3400\n",
      "d =  1920.9373\n",
      "Zobservado =  -1.77\n"
     ]
    }
   ],
   "source": [
    "q = 60900 - 64300\n",
    "d = math.sqrt( (12000**2 + 15000**2) / 100 )\n",
    "print('q = ', q)\n",
    "print('d = ', round(d, 4))\n",
    "Zo = q / d\n",
    "print('Zobservado = ', round(Zo, 2))"
   ]
  },
  {
   "cell_type": "markdown",
   "id": "d8654745c627ef2b",
   "metadata": {},
   "source": [
    "Teste dos lados a curva:\n",
    "\n",
    "$\\alpha = \\Large \\frac{\\alpha}{2}$\n",
    "\n",
    "$\\alpha = \\Large \\frac{5}{2}$\n",
    "\n",
    "$\\alpha = 2.5 = 0.025$\n",
    "\n",
    "Area = 0.5 - 0.025\n",
    "\n",
    "Z<sub>critico</sub> = 1.96"
   ]
  },
  {
   "cell_type": "code",
   "execution_count": 6,
   "id": "c1e41c045ffb10cd",
   "metadata": {
    "ExecuteTime": {
     "end_time": "2025-03-06T14:07:31.777798Z",
     "start_time": "2025-03-06T14:07:31.775849Z"
    }
   },
   "outputs": [
    {
     "name": "stdout",
     "output_type": "stream",
     "text": [
      "A1 =  0.475\n",
      "Zc =  1.96\n",
      "Zo =  1.77\n"
     ]
    }
   ],
   "source": [
    "A1 = 0.5 - 0.025\n",
    "print('A1 = ', A1)\n",
    "print('Zc = ', 1.96)\n",
    "print('Zo = ', 1.77)"
   ]
  },
  {
   "cell_type": "markdown",
   "id": "d99cbd53a5908d12",
   "metadata": {},
   "source": [
    "Para um nível de significância de 5%, não pode se rejeitar que as médias de vendas de SP e RJ são iguais."
   ]
  },
  {
   "cell_type": "code",
   "execution_count": null,
   "id": "4eb545b5f1c6c4",
   "metadata": {
    "ExecuteTime": {
     "end_time": "2025-03-06T14:07:31.824532Z",
     "start_time": "2025-03-06T14:07:31.823130Z"
    }
   },
   "outputs": [],
   "source": []
  }
 ],
 "metadata": {
  "kernelspec": {
   "display_name": "Python 3 (ipykernel)",
   "language": "python",
   "name": "python3"
  },
  "language_info": {
   "codemirror_mode": {
    "name": "ipython",
    "version": 3
   },
   "file_extension": ".py",
   "mimetype": "text/x-python",
   "name": "python",
   "nbconvert_exporter": "python",
   "pygments_lexer": "ipython3",
   "version": "3.12.9"
  }
 },
 "nbformat": 4,
 "nbformat_minor": 5
}
