{
 "cells": [
  {
   "cell_type": "markdown",
   "id": "76df5f26288a5222",
   "metadata": {},
   "source": [
    "# Teste de Hipóteses"
   ]
  },
  {
   "cell_type": "markdown",
   "id": "18275ca7-e302-459f-be6e-90b48325fca4",
   "metadata": {},
   "source": [
    "<font size=\"5\">\n",
    "Afirmação sobre a população $\\Longrightarrow$ Teste de Hipóteses\n",
    "</font>"
   ]
  },
  {
   "cell_type": "markdown",
   "id": "e73ba19c-7ada-4e3c-80a6-baa13b9cb319",
   "metadata": {},
   "source": [
    "<font size=\"5\">\n",
    "Teste de Hipóteses $\\Longrightarrow$ Aceitar ou Recusar a Hipótese\n",
    "</font>"
   ]
  },
  {
   "cell_type": "markdown",
   "id": "2dd439738e5cf947",
   "metadata": {},
   "source": [
    "<font size=\"5\">\n",
    "<span style=\"color:blue\">Hipótese Nula</span> $\\Longrightarrow$ H<sub>0</sub>\n",
    "\n",
    "<span style=\"color:red\">Hipótese Alternativa</span> $\\Longrightarrow$ H<sub>a</sub>\n",
    "\n",
    "<span style=\"color:blue\">H<sub>0</sub>  $\\Longrightarrow \\text{ =, }\\leqslant \\text{, } \\geqslant $</span>\n",
    "\n",
    "<span style=\"color:red\">H<sub>a</sub>  $\\Longrightarrow \\text{ } \\neq \\text{, } \\lt  \\text{, } \\gt$</span>\n",
    "\n",
    "H<sub>0</sub>, H<sub>a</sub> são estritamente complementares\n",
    "</font>"
   ]
  },
  {
   "cell_type": "markdown",
   "id": "13520b8820d64d61",
   "metadata": {},
   "source": [
    "## **Nível de significância** = $\\alpha$\n",
    "\n",
    "<font size=\"5\">\n",
    "    \n",
    "**Erro do tipo 1** $\\Longrightarrow$ Probabilidade de se rejeitar H<sub>0</sub> mesmo que ela se prove verdadeira.\n",
    "\n",
    "**Erro do tipo 2** $\\Longrightarrow$ Probabilidade de se aceitar H<sub>0</sub> mesmo que se prove falsa.\n",
    "</font>"
   ]
  },
  {
   "cell_type": "markdown",
   "id": "cc7b07b22ffda07d",
   "metadata": {},
   "source": [
    "## Exemplos"
   ]
  },
  {
   "cell_type": "markdown",
   "id": "a2ee217b557d161",
   "metadata": {},
   "source": [
    "A média de idade dos estudantes de uma escola **<ins>é igual a 15</ins>**.\n",
    "\n",
    "<span style=\"color:blue\">H<sub>0</sup> $\\Longrightarrow \\text{ } \\mu$ = 15</span>\n",
    "\n",
    "<span style=\"color:red\">H<sub>a</sub> $\\Longrightarrow \\text{ } \\mu$ $\\neq$ 15</span>\n",
    "\n",
    "___\n",
    "\n",
    "O tempo de resposta médio de um determinado website **<ins>é inferior 2 segundos</ins>**.\n",
    "\n",
    "<span style=\"color:red\">H<sub>a</sub>  $\\Longrightarrow \\text{ } \\mu$ < 2</span>\n",
    "\n",
    "<span style=\"color:blue\">H<sub>0</sup>  $\\Longrightarrow \\text{ } \\mu$ $\\geqslant$ 2</span>\n",
    "\n",
    "___\n",
    "\n",
    "A proporção de funcionarios de uma empresa que usam transporte público para ir ao trabalho é menor que 40%.\n",
    "\n",
    "<span style=\"color:red\">H<sub>a</sub>  $\\Longrightarrow \\text{ } \\hat{p}$ < 0.40</span>\n",
    "\n",
    "<span style=\"color:blue\">H<sub>0</sup>  $\\Longrightarrow \\text{ } \\hat{p}$ $\\geqslant$ 0.40</span>"
   ]
  },
  {
   "cell_type": "code",
   "execution_count": null,
   "id": "364dc7c29d8d96fe",
   "metadata": {
    "ExecuteTime": {
     "end_time": "2025-03-05T11:49:41.512913Z",
     "start_time": "2025-03-05T11:49:41.511646Z"
    }
   },
   "outputs": [],
   "source": []
  }
 ],
 "metadata": {
  "kernelspec": {
   "display_name": "Python 3 (ipykernel)",
   "language": "python",
   "name": "python3"
  },
  "language_info": {
   "codemirror_mode": {
    "name": "ipython",
    "version": 3
   },
   "file_extension": ".py",
   "mimetype": "text/x-python",
   "name": "python",
   "nbconvert_exporter": "python",
   "pygments_lexer": "ipython3",
   "version": "3.12.9"
  }
 },
 "nbformat": 4,
 "nbformat_minor": 5
}
