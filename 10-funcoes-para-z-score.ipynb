{
 "cells": [
  {
   "metadata": {},
   "cell_type": "markdown",
   "source": "# Funções para Z score",
   "id": "8995a0a17630c655"
  },
  {
   "metadata": {},
   "cell_type": "markdown",
   "source": [
    "<font size=\"6\">\n",
    "$\\text{Z = } \\frac{\\bar{x} - \\mu}{\\frac{\\sigma}{\\sqrt{n}}}$\n",
    "</font>"
   ],
   "id": "b27e6cef8316830b"
  },
  {
   "metadata": {},
   "cell_type": "markdown",
   "source": "# Função para t student",
   "id": "876084a05f48d7db"
  },
  {
   "metadata": {},
   "cell_type": "markdown",
   "source": [
    "<font size=\"6\">\n",
    "$\\text{Z = } \\frac{\\bar{x} - \\mu}{\\frac{S}{\\sqrt{n}}}$\n",
    "</font>"
   ],
   "id": "f8dc08dfc99b41c6"
  },
  {
   "metadata": {},
   "cell_type": "markdown",
   "source": "# Função Z score para **proporção**",
   "id": "19dce165bd4357eb"
  },
  {
   "metadata": {},
   "cell_type": "markdown",
   "source": [
    "<font size=\"6\">\n",
    "$\\text{Z = }\\frac{\\hat{p} - p} {\\sqrt{\\frac{p(1 - p)}{n}}}$\n",
    "</font>"
   ],
   "id": "b2edbd6d6b6aeacb"
  },
  {
   "metadata": {},
   "cell_type": "markdown",
   "source": "# Função Z score para **diferença entre médias**",
   "id": "26e7339f8d777fde"
  },
  {
   "metadata": {},
   "cell_type": "markdown",
   "source": [
    "<font size=\"6\">\n",
    "$\\text{Z = }\\frac{(x_{1} - x_{2}) - (\\mu_{1} - \\mu_{2})}{\\sqrt{\\frac{S_{1}^{2}}{n_{1}} + \\frac{S_{2}^{2}}{n_{2}}}}$\n",
    "</font>"
   ],
   "id": "6ecc7b670174d4fe"
  },
  {
   "metadata": {},
   "cell_type": "code",
   "outputs": [],
   "execution_count": null,
   "source": "",
   "id": "6181ab6782c6feb9"
  }
 ],
 "metadata": {
  "kernelspec": {
   "display_name": "Python 3",
   "language": "python",
   "name": "python3"
  },
  "language_info": {
   "codemirror_mode": {
    "name": "ipython",
    "version": 2
   },
   "file_extension": ".py",
   "mimetype": "text/x-python",
   "name": "python",
   "nbconvert_exporter": "python",
   "pygments_lexer": "ipython2",
   "version": "2.7.6"
  }
 },
 "nbformat": 4,
 "nbformat_minor": 5
}
