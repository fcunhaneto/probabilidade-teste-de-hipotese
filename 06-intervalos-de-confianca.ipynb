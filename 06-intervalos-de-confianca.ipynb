{
 "cells": [
  {
   "cell_type": "markdown",
   "id": "cd5e6fa1fca471dd",
   "metadata": {},
   "source": [
    "# Intervalos de Confiança"
   ]
  },
  {
   "cell_type": "markdown",
   "id": "e16f0c76144013f5",
   "metadata": {},
   "source": [
    "## Estimativa Intervalar"
   ]
  },
  {
   "cell_type": "markdown",
   "id": "84da4fb95a9631ef",
   "metadata": {},
   "source": [
    "$\\Large IC_{\\mu}\\text{  = Intervalo de Confiança para a Média}$\n",
    "\n",
    "$\\Large IC_{\\mu} = \\bar{x}\\pm\\frac{Z_{score}}{\\sqrt{\\sigma}}\\text{para população infinita}$\n",
    "\n",
    "$\\Large IC_{\\mu} = \\bar{x}\\pm\\frac{Z_{score}}{\\sqrt{\\sigma}}\\sqrt{\\frac{N - n}{N - 1}}\\text{ para população finita}$\n",
    "\n",
    "<font size=\"3\">A probabilidade do intervalo conter $\\mu$ é chamada de **nível de confiança** ou coeficiente de confiança $\\Large \\text{(} \\gamma \\text{)}$.</font>\n",
    "\n",
    "<font size=\"3\">A probabilidade do intervalo não conter $\\mu$ é chamada de **nível de significância** $\\Large \\text{(} \\alpha \\text{)}$</font>\n",
    "\n",
    "$\\Large \\gamma = 1 - \\alpha$\n",
    "___\n",
    "\n",
    "$\\Large \\text{P = 0,95}$\n",
    "\n",
    "$\\Large \\text{Z = 2}$\n",
    "\n",
    "$\\Large \\text{P = }(\\mu - \\frac{2\\sigma}{\\sqrt{n}} \\lt \\bar{x} \\lt \\mu + \\frac{2\\sigma}{\\sqrt{n}})$\n",
    "\n",
    "<font size=\"3\">Subtraindo $\\mu$ da equação:</font>\n",
    "\n",
    "$\\Large \\text{P = }(- \\frac{2\\sigma}{\\sqrt{n}} \\lt \\bar{x} - \\mu \\lt + \\frac{2\\sigma}{\\sqrt{n}})$\n",
    "\n",
    "<font size=\"3\">Subtraindo $\\bar{x}$ da equação:</font>\n",
    "\n",
    "$\\Large \\text{P = }(-\\bar{x} - \\frac{2\\sigma}{\\sqrt{n}} \\lt -\\mu \\lt -\\bar{x} + \\frac{2\\sigma}{\\sqrt{n}})$\n",
    "\n",
    "<font size=\"3\">Multiplicando a equação por −1:</font>\n",
    "\n",
    "$\\Large \\text{P = }(\\bar{x} - \\frac{2\\sigma}{\\sqrt{n}} \\lt \\mu \\lt \\bar{x} + \\frac{2\\sigma}{\\sqrt{n}})$\n",
    "\n",
    "<font size=\"3\">Conclusão podemos medir o intervalo de confiança para a média a partir da média amostral:</font>\n",
    "\n",
    "**Para população infinita:**\n",
    "\n",
    "$\\Large \\text{P = }(\\bar{x} - \\text{Z}\\frac{\\sigma}{\\sqrt{n}} \\lt \\mu \\lt \\bar{x} + \\text{Z} \\frac{\\sigma}{\\sqrt{n}}) = \\gamma$\n",
    "\n",
    "**Para população finita:**\n",
    "\n",
    "$\\Large \\text{P = }(\\bar{x} - \\text{Z}\\frac{\\sigma}{\\sqrt{n}}\\sqrt{\\frac{N - n}{N - 1}} \\lt \\mu \\lt \\bar{x} + \\text{Z} \\frac{\\sigma}{\\sqrt{n}}\\sqrt{\\frac{N - n}{N - 1}}) = \\gamma$\n",
    "\n",
    "___"
   ]
  },
  {
   "cell_type": "markdown",
   "id": "ced18854f8a5249e",
   "metadata": {},
   "source": "## Distribuição t Student"
  },
  {
   "metadata": {},
   "cell_type": "markdown",
   "source": "![Distribuição t Student](imagens/ditribuicao-t-student.png)",
   "id": "e89e0535b0f735cf"
  },
  {
   "metadata": {},
   "cell_type": "markdown",
   "source": [
    "<font size=\"3\">\n",
    "Usada quando $\\sigma$ desconhecido e n $\\lt$ 30.\n",
    "\n",
    "A medida que n aumenta aproxima-se da Distribuição Normal.\n",
    "</font>"
   ],
   "id": "3e2fad764975ceba"
  },
  {
   "metadata": {},
   "cell_type": "markdown",
   "source": "### Grau de Liberdade gl",
   "id": "9c73384087eac6ac"
  },
  {
   "metadata": {},
   "cell_type": "markdown",
   "source": "$\\Large \\text{gl = n - 1}$",
   "id": "6c147a059d246e2"
  },
  {
   "metadata": {},
   "cell_type": "markdown",
   "source": "$\\Large \\text{P = }(\\bar{x} - \\text{t}\\frac{\\text{S}}{\\sqrt{n}} \\lt \\mu \\lt \\bar{x} + \\text{t} \\frac{\\text{S}}{\\sqrt{n}}) = \\gamma$",
   "id": "8033791f3079d63d"
  },
  {
   "metadata": {},
   "cell_type": "markdown",
   "source": "### Exemplo",
   "id": "21d5c7d938cd43cc"
  },
  {
   "metadata": {},
   "cell_type": "markdown",
   "source": [
    "Contrua um intervalo de confiança para a vida útil de uma lâmpada de 100W, com um nível de confiança de 95%. Para tanto foi selecionada uma amostra aleatória de 10 lâmpadas, onde verificou-se uma média de 1000 horas e desvio padrão de 30 horas.\n",
    "\n",
    "$\\text{IC = 95}\\%$\n",
    "\n",
    "$\\text{n = 10 } \\Longrightarrow \\text{n} \\lt \\text{30}$\n",
    "\n",
    "$\\bar{x} \\text{ = 1000}$\n",
    "\n",
    "$\\text{S = 30}$\n",
    "\n",
    "$\\text{A = 0,5 - 0,475 = 0.025}$\n",
    "\n",
    "$\\text{t = 2,262}$"
   ],
   "id": "5ea769388a7eaf7d"
  },
  {
   "metadata": {
    "ExecuteTime": {
     "end_time": "2025-03-05T12:41:52.697061Z",
     "start_time": "2025-03-05T12:41:52.694884Z"
    }
   },
   "cell_type": "code",
   "source": [
    "import math\n",
    "p = 2.262 * 30 / math.sqrt(10)\n",
    "ic1 = round((1000 - p), 2)\n",
    "ic2 = round((1000 + p), 2)\n",
    "print('Intervalos de confianca = [{0}, {1}]'.format(ic1, ic2))"
   ],
   "id": "f9560c2f187f9e29",
   "outputs": [
    {
     "name": "stdout",
     "output_type": "stream",
     "text": [
      "Intervalos de confianca = [978.54, 1021.46]\n"
     ]
    }
   ],
   "execution_count": 1
  },
  {
   "metadata": {
    "ExecuteTime": {
     "end_time": "2025-03-05T12:41:52.741104Z",
     "start_time": "2025-03-05T12:41:52.739748Z"
    }
   },
   "cell_type": "code",
   "source": "",
   "id": "852eb5f02bb356df",
   "outputs": [],
   "execution_count": null
  }
 ],
 "metadata": {
  "kernelspec": {
   "display_name": "Python 3 (ipykernel)",
   "language": "python",
   "name": "python3"
  },
  "language_info": {
   "codemirror_mode": {
    "name": "ipython",
    "version": 3
   },
   "file_extension": ".py",
   "mimetype": "text/x-python",
   "name": "python",
   "nbconvert_exporter": "python",
   "pygments_lexer": "ipython3",
   "version": "3.12.9"
  }
 },
 "nbformat": 4,
 "nbformat_minor": 5
}
