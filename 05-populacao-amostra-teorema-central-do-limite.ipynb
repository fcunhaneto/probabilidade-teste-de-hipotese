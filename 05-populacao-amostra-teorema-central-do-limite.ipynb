{
 "cells": [
  {
   "cell_type": "markdown",
   "id": "47e4f324b6193644",
   "metadata": {},
   "source": [
    "# População vs Amostra"
   ]
  },
  {
   "cell_type": "markdown",
   "id": "b6256b8f-0d6c-48e3-94bb-52f8100817c8",
   "metadata": {},
   "source": [
    "## População"
   ]
  },
  {
   "cell_type": "markdown",
   "id": "fcd19eb56fd27796",
   "metadata": {},
   "source": [
    "**Parâmetros** a medidas a partir da população\n",
    "\n",
    "- média = $\\Large\\mu$\n",
    "- desvio padrão = $\\Large\\sigma$"
   ]
  },
  {
   "cell_type": "markdown",
   "id": "3674b464211a67a8",
   "metadata": {},
   "source": [
    "$\\Large \\mu = \\frac{\\sum_{i=1}^{N}x_{i}}{N}$"
   ]
  },
  {
   "cell_type": "markdown",
   "id": "64131802a4de85c5",
   "metadata": {},
   "source": [
    "$\\Large \\sigma^{2} = \\frac{\\sum_{i=1}^{N}(x_{i} - \\mu)^{2}}{N}$"
   ]
  },
  {
   "cell_type": "markdown",
   "id": "d9428884a8829330",
   "metadata": {},
   "source": [
    "$\\Large \\sigma = \\sqrt{\\frac{\\sum_{i=1}^{N}(x_{i} - \\mu)^{2}}{N}}$"
   ]
  },
  {
   "cell_type": "markdown",
   "id": "1354c4276f0300d2",
   "metadata": {},
   "source": [
    "### População Selecionada"
   ]
  },
  {
   "cell_type": "markdown",
   "id": "696b1afb123b0429",
   "metadata": {},
   "source": [
    "Atendentes de uma empresa, amostra dos tempos de atendimento:\n",
    "\n",
    "atendente 1 = [15, 14, 13, 16, 15] no dia 15/04\n",
    "\n",
    "P = conjunto de todos os dados de nosso estudo"
   ]
  },
  {
   "cell_type": "markdown",
   "id": "8f1ffc9f-368b-451a-a5f1-13bac50018cc",
   "metadata": {},
   "source": [
    "$\\Large \\mu = \\frac{\\text{15 + 14 + 13 + 16 + 15}}{5} \\text{ = 14,6}$\n",
    "\n",
    "$\\Large \\sigma = \\sqrt{\\frac{(15 - 14,6)^{2} + (14 - 14,6))^{2} + \\cdots (15 - 14,6)^{2} }{5}}\\text{ = 1,0198}$"
   ]
  },
  {
   "cell_type": "markdown",
   "id": "a343dde80dfc0a82",
   "metadata": {},
   "source": [
    "## Amostra\n",
    "\n"
   ]
  },
  {
   "cell_type": "markdown",
   "id": "f8af9a17-2114-471c-8e31-22511c1ac3e6",
   "metadata": {},
   "source": [
    "**Estatísticas** as medidas a partir da amostra\n",
    "- média = $\\Large \\bar{x}$\n",
    "- desvio padrão = $\\Large \\text{S}$"
   ]
  },
  {
   "cell_type": "markdown",
   "id": "77e7627f17a9e6d6",
   "metadata": {},
   "source": [
    "$\\Large \\bar{x} = \\frac{\\sum_{i=1}^{n} x_{i}}{n}$\n",
    "\n",
    "$\\Large \\text{S = }\\sqrt{\\frac{(x_{i} - \\bar{x})^{2}}{(n-1)}}$"
   ]
  },
  {
   "cell_type": "markdown",
   "id": "249a68e93241acb8",
   "metadata": {},
   "source": [
    "### Amostra Selecionada\n",
    "\n",
    "A = {13, 15}"
   ]
  },
  {
   "cell_type": "markdown",
   "id": "45325520a601ffa3",
   "metadata": {},
   "source": [
    "$\\Large \\bar{x} = \\frac{\\text{13 + 15}}{\\text{2}} \\text{ = 14}$\n",
    "\n",
    "$\\Large \\text{S} = \\sqrt{\\frac{\\text{(13 - 14)}^{2} + \\text{(15 - 14)}^{2}}{\\text{2 - 1}}} \\text{ = 1,4}$"
   ]
  },
  {
   "cell_type": "markdown",
   "id": "c14394e1a19cc059",
   "metadata": {},
   "source": [
    "## Cálculos Amostra"
   ]
  },
  {
   "cell_type": "code",
   "id": "1dcbd5e9b9ab0dd7",
   "metadata": {
    "ExecuteTime": {
     "end_time": "2025-03-10T17:12:01.274467Z",
     "start_time": "2025-03-10T17:12:01.119534Z"
    }
   },
   "source": [
    "import numpy as np\n",
    "import pandas as pd\n",
    "\n",
    "m = (13 + 15)/ 2\n",
    "va = np.sqrt((13 - 14)**2 + (15 - 14)**2)\n",
    "print(m)\n",
    "print(va)"
   ],
   "outputs": [
    {
     "name": "stdout",
     "output_type": "stream",
     "text": [
      "14.0\n",
      "1.4142135623730951\n"
     ]
    }
   ],
   "execution_count": 1
  },
  {
   "cell_type": "markdown",
   "id": "4262011ce763b4b2",
   "metadata": {},
   "source": [
    "## Cálculos Amostra Com Pandas"
   ]
  },
  {
   "cell_type": "code",
   "id": "da7bdb222dcc6898",
   "metadata": {
    "ExecuteTime": {
     "end_time": "2025-03-10T17:12:01.288855Z",
     "start_time": "2025-03-10T17:12:01.279399Z"
    }
   },
   "source": [
    "l1 = [13, 15]\n",
    "df = pd.Series(l1)\n",
    "print(df.mean())\n",
    "print(df.std())"
   ],
   "outputs": [
    {
     "name": "stdout",
     "output_type": "stream",
     "text": [
      "14.0\n",
      "1.4142135623730951\n"
     ]
    }
   ],
   "execution_count": 2
  },
  {
   "cell_type": "markdown",
   "id": "31da000a-8045-42fd-9164-4fe650b5ab48",
   "metadata": {},
   "source": [
    "# Teorema do Limite Central"
   ]
  },
  {
   "cell_type": "markdown",
   "id": "4e1bfdbe-e89d-4fad-b78e-b921bfb2b491",
   "metadata": {},
   "source": "<font size=\"3\">Independentemente da distribuição da população, a distribuição das médias de amostras aleatórias tende a se aproximar de uma distribuição normal à medida que o tamanho das amostras aumenta.</font>"
  },
  {
   "cell_type": "markdown",
   "id": "a972a92e-5534-4d75-806a-524cd9a8db76",
   "metadata": {},
   "source": [
    "**Normal** = N($\\mu$, $\\sigma$)\n",
    "\n",
    "**A média da distribuição das médias é** $\\Large \\mu_{\\bar{x}} = \\mu$\n",
    "\n",
    "Para população **finita amostra sem reposição**:\n",
    "\n",
    "**O desvio padrão da distribuição das médias é** $\\Large \\sigma_{\\bar{x}} = \\frac{\\sigma}{\\sqrt{n}}\\sqrt{\\frac{N - n}{N -1}}$\n",
    "\n",
    "Para população **infinita com reposição**:\n",
    "\n",
    "**O desvio padrão da distribuição das médias é** $\\Large \\sigma_{\\bar{x}} = \\frac{\\sigma}{\\sqrt{n}}$\n",
    "\n",
    "\n",
    "$\\Large \\text{n}\\lt \\text{30}$  \n",
    "\n",
    "Essa aproximação é grosseira.\n",
    "\n",
    "$\\Large \\text{n}\\geqslant  \\text{30}$\n",
    "\n",
    "Essa aproximação pode se considerada próxima da Distribuição Normal.\n"
   ]
  },
  {
   "cell_type": "markdown",
   "id": "c3b8144102b90e99",
   "metadata": {},
   "source": [
    "#### **A média das médias é igual a média da população**"
   ]
  },
  {
   "cell_type": "markdown",
   "id": "eebae1b4-d87f-41d2-9b29-1a8c791de4d7",
   "metadata": {},
   "source": [
    "## Cálculo de acordo com o Teorema do Limite Central"
   ]
  },
  {
   "cell_type": "markdown",
   "id": "af9b7561-f867-4340-8998-307f99686c6d",
   "metadata": {},
   "source": [
    "### População"
   ]
  },
  {
   "cell_type": "code",
   "id": "8b7fac0e-2e28-4065-a163-fca485af1e63",
   "metadata": {
    "ExecuteTime": {
     "end_time": "2025-03-10T17:12:01.344422Z",
     "start_time": "2025-03-10T17:12:01.341620Z"
    }
   },
   "source": [
    "pop =  [15, 14, 13, 16, 15]\n",
    "ds = pd.Series(pop)\n",
    "\n",
    "dp = np.sqrt(((ds - ds.mean())**2).sum()/len(ds))\n",
    "print('média população = ', ds.mean())\n",
    "print('desvio padrão população = ', dp)"
   ],
   "outputs": [
    {
     "name": "stdout",
     "output_type": "stream",
     "text": [
      "média população =  14.6\n",
      "desvio padrão população =  1.019803902718557\n"
     ]
    }
   ],
   "execution_count": 3
  },
  {
   "cell_type": "markdown",
   "id": "47c63648-9b66-421f-9f1d-d2a9c7aa7cde",
   "metadata": {},
   "source": [
    "### Amostra"
   ]
  },
  {
   "cell_type": "code",
   "id": "ee8f6c12-66ef-4647-b006-66c65fdce5f8",
   "metadata": {
    "ExecuteTime": {
     "end_time": "2025-03-10T17:12:01.389544Z",
     "start_time": "2025-03-10T17:12:01.387211Z"
    }
   },
   "source": [
    "aux1 = 1.0198 / np.sqrt(2)\n",
    "aux2 = np.sqrt((3/4))\n",
    "dp = aux1 * aux2\n",
    "print('média amostra = ', ds.mean())\n",
    "print('desvio padrão amostra = ', dp)"
   ],
   "outputs": [
    {
     "name": "stdout",
     "output_type": "stream",
     "text": [
      "média amostra =  14.6\n",
      "desvio padrão amostra =  0.6244974099225712\n"
     ]
    }
   ],
   "execution_count": 4
  },
  {
   "cell_type": "code",
   "id": "eab54d08-72cd-4e23-8e5e-7af11d1e340b",
   "metadata": {
    "ExecuteTime": {
     "end_time": "2025-03-10T17:12:01.434610Z",
     "start_time": "2025-03-10T17:12:01.433150Z"
    }
   },
   "source": [],
   "outputs": [],
   "execution_count": null
  }
 ],
 "metadata": {
  "kernelspec": {
   "display_name": "Python 3 (ipykernel)",
   "language": "python",
   "name": "python3"
  },
  "language_info": {
   "codemirror_mode": {
    "name": "ipython",
    "version": 3
   },
   "file_extension": ".py",
   "mimetype": "text/x-python",
   "name": "python",
   "nbconvert_exporter": "python",
   "pygments_lexer": "ipython3",
   "version": "3.12.9"
  }
 },
 "nbformat": 4,
 "nbformat_minor": 5
}
