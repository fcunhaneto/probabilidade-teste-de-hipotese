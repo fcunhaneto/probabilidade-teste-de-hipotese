{
 "cells": [
  {
   "metadata": {},
   "cell_type": "markdown",
   "source": "# Distribuição Normal",
   "id": "44de81633cbcbaf1"
  },
  {
   "metadata": {},
   "cell_type": "markdown",
   "source": [
    "**Atendente 1**\n",
    "\n",
    "|     |     |     |     |     |\n",
    "|:---:|:---:|:---:|:---:|:---:|\n",
    "|  1  | 3.5 | 3.7 | 3.8 |  4  |\n",
    "|  4  | 5.5 | 5.5 | 5.6 | 5.6 |\n",
    "| 5.8 | 5.8 | 5.9 | 5.9 |  6  |\n",
    "|  6  |  6  |  6  | 6.6 |  7  |\n",
    "|  7  | 7.1 | 7.1 |  8  | 9.5 |"
   ],
   "id": "769ca61e7fd6f57d"
  },
  {
   "metadata": {},
   "cell_type": "markdown",
   "source": "## Cálculos",
   "id": "48335b925dd9b236"
  },
  {
   "metadata": {
    "ExecuteTime": {
     "end_time": "2025-03-02T20:02:17.571317Z",
     "start_time": "2025-03-02T20:02:17.318254Z"
    }
   },
   "cell_type": "code",
   "source": [
    "import numpy as np\n",
    "import pandas as pd\n",
    "import matplotlib.pyplot as plt\n",
    "import tabela_frequencia as tf\n",
    "\n",
    "atendente_1 = [1, 3.5, 3.7, 3.8, 4, 4, 5.5, 5.5, 5.6, 5.6, 5.8, 5.8, 5.9, 5.9, 6, 6, 6, 6, 6.6, 7, 7, 7.1, 7.1, 8, 9.5]\n",
    "\n",
    "atendente_1 = pd.DataFrame({'atendimento': atendente_1})\n",
    "atendente_1"
   ],
   "id": "db8327612e2cba07",
   "outputs": [
    {
     "data": {
      "text/plain": [
       "    atendimento\n",
       "0           1.0\n",
       "1           3.5\n",
       "2           3.7\n",
       "3           3.8\n",
       "4           4.0\n",
       "5           4.0\n",
       "6           5.5\n",
       "7           5.5\n",
       "8           5.6\n",
       "9           5.6\n",
       "10          5.8\n",
       "11          5.8\n",
       "12          5.9\n",
       "13          5.9\n",
       "14          6.0\n",
       "15          6.0\n",
       "16          6.0\n",
       "17          6.0\n",
       "18          6.6\n",
       "19          7.0\n",
       "20          7.0\n",
       "21          7.1\n",
       "22          7.1\n",
       "23          8.0\n",
       "24          9.5"
      ],
      "text/html": [
       "<div>\n",
       "<style scoped>\n",
       "    .dataframe tbody tr th:only-of-type {\n",
       "        vertical-align: middle;\n",
       "    }\n",
       "\n",
       "    .dataframe tbody tr th {\n",
       "        vertical-align: top;\n",
       "    }\n",
       "\n",
       "    .dataframe thead th {\n",
       "        text-align: right;\n",
       "    }\n",
       "</style>\n",
       "<table border=\"1\" class=\"dataframe\">\n",
       "  <thead>\n",
       "    <tr style=\"text-align: right;\">\n",
       "      <th></th>\n",
       "      <th>atendimento</th>\n",
       "    </tr>\n",
       "  </thead>\n",
       "  <tbody>\n",
       "    <tr>\n",
       "      <th>0</th>\n",
       "      <td>1.0</td>\n",
       "    </tr>\n",
       "    <tr>\n",
       "      <th>1</th>\n",
       "      <td>3.5</td>\n",
       "    </tr>\n",
       "    <tr>\n",
       "      <th>2</th>\n",
       "      <td>3.7</td>\n",
       "    </tr>\n",
       "    <tr>\n",
       "      <th>3</th>\n",
       "      <td>3.8</td>\n",
       "    </tr>\n",
       "    <tr>\n",
       "      <th>4</th>\n",
       "      <td>4.0</td>\n",
       "    </tr>\n",
       "    <tr>\n",
       "      <th>5</th>\n",
       "      <td>4.0</td>\n",
       "    </tr>\n",
       "    <tr>\n",
       "      <th>6</th>\n",
       "      <td>5.5</td>\n",
       "    </tr>\n",
       "    <tr>\n",
       "      <th>7</th>\n",
       "      <td>5.5</td>\n",
       "    </tr>\n",
       "    <tr>\n",
       "      <th>8</th>\n",
       "      <td>5.6</td>\n",
       "    </tr>\n",
       "    <tr>\n",
       "      <th>9</th>\n",
       "      <td>5.6</td>\n",
       "    </tr>\n",
       "    <tr>\n",
       "      <th>10</th>\n",
       "      <td>5.8</td>\n",
       "    </tr>\n",
       "    <tr>\n",
       "      <th>11</th>\n",
       "      <td>5.8</td>\n",
       "    </tr>\n",
       "    <tr>\n",
       "      <th>12</th>\n",
       "      <td>5.9</td>\n",
       "    </tr>\n",
       "    <tr>\n",
       "      <th>13</th>\n",
       "      <td>5.9</td>\n",
       "    </tr>\n",
       "    <tr>\n",
       "      <th>14</th>\n",
       "      <td>6.0</td>\n",
       "    </tr>\n",
       "    <tr>\n",
       "      <th>15</th>\n",
       "      <td>6.0</td>\n",
       "    </tr>\n",
       "    <tr>\n",
       "      <th>16</th>\n",
       "      <td>6.0</td>\n",
       "    </tr>\n",
       "    <tr>\n",
       "      <th>17</th>\n",
       "      <td>6.0</td>\n",
       "    </tr>\n",
       "    <tr>\n",
       "      <th>18</th>\n",
       "      <td>6.6</td>\n",
       "    </tr>\n",
       "    <tr>\n",
       "      <th>19</th>\n",
       "      <td>7.0</td>\n",
       "    </tr>\n",
       "    <tr>\n",
       "      <th>20</th>\n",
       "      <td>7.0</td>\n",
       "    </tr>\n",
       "    <tr>\n",
       "      <th>21</th>\n",
       "      <td>7.1</td>\n",
       "    </tr>\n",
       "    <tr>\n",
       "      <th>22</th>\n",
       "      <td>7.1</td>\n",
       "    </tr>\n",
       "    <tr>\n",
       "      <th>23</th>\n",
       "      <td>8.0</td>\n",
       "    </tr>\n",
       "    <tr>\n",
       "      <th>24</th>\n",
       "      <td>9.5</td>\n",
       "    </tr>\n",
       "  </tbody>\n",
       "</table>\n",
       "</div>"
      ]
     },
     "execution_count": 3,
     "metadata": {},
     "output_type": "execute_result"
    }
   ],
   "execution_count": 3
  },
  {
   "metadata": {
    "ExecuteTime": {
     "end_time": "2025-03-02T20:02:18.617637Z",
     "start_time": "2025-03-02T20:02:18.609472Z"
    }
   },
   "cell_type": "code",
   "source": [
    "media = atendente_1.mean()\n",
    "mediana = atendente_1.median()\n",
    "moda = atendente_1.mode()\n",
    "dm = (atendente_1 - atendente_1.mean()).abs().mean()\n",
    "va = ((atendente_1 - atendente_1.mean())**2).sum()/len(atendente_1)\n",
    "print('média = ', media.round(2))\n",
    "print('mediana = ', mediana)\n",
    "print('moda = ', mediana)\n",
    "print('desvio médio = ', dm.round(2))\n",
    "print('variância = ', va.round(2))\n",
    "print('devio padrão = ', np.sqrt(va).round(2))"
   ],
   "id": "45499241d942aef7",
   "outputs": [
    {
     "name": "stdout",
     "output_type": "stream",
     "text": [
      "média =  atendimento    5.68\n",
      "dtype: float64\n",
      "mediana =  atendimento    5.9\n",
      "dtype: float64\n",
      "moda =  atendimento    5.9\n",
      "dtype: float64\n",
      "desvio médio =  atendimento    1.16\n",
      "dtype: float64\n",
      "variância =  atendimento    2.75\n",
      "dtype: float64\n",
      "devio padrão =  atendimento    1.66\n",
      "dtype: float64\n"
     ]
    }
   ],
   "execution_count": 4
  },
  {
   "metadata": {},
   "cell_type": "markdown",
   "source": "## Gerando tabela frequencia",
   "id": "ecba33d64582a91a"
  },
  {
   "metadata": {
    "ExecuteTime": {
     "end_time": "2025-03-02T20:02:23.465204Z",
     "start_time": "2025-03-02T20:02:23.458977Z"
    }
   },
   "cell_type": "code",
   "source": [
    "tab = tf.quant(atendente_1, 'atendimento', 2, 1, 9)\n",
    "tab"
   ],
   "id": "393178a83777a82d",
   "outputs": [
    {
     "data": {
      "text/plain": [
       "       atendimento  ni    fi  fi.ac\n",
       "0   [ 1.00,  3.00)   1  0.04   0.04\n",
       "1   [ 3.00,  5.00)   5  0.20   0.24\n",
       "2   [ 5.00,  7.00)  13  0.52   0.76\n",
       "3   [ 7.00,  9.00)   5  0.20   0.96\n",
       "4  [ 9.00,  11.00)   1  0.04   1.00"
      ],
      "text/html": [
       "<div>\n",
       "<style scoped>\n",
       "    .dataframe tbody tr th:only-of-type {\n",
       "        vertical-align: middle;\n",
       "    }\n",
       "\n",
       "    .dataframe tbody tr th {\n",
       "        vertical-align: top;\n",
       "    }\n",
       "\n",
       "    .dataframe thead th {\n",
       "        text-align: right;\n",
       "    }\n",
       "</style>\n",
       "<table border=\"1\" class=\"dataframe\">\n",
       "  <thead>\n",
       "    <tr style=\"text-align: right;\">\n",
       "      <th></th>\n",
       "      <th>atendimento</th>\n",
       "      <th>ni</th>\n",
       "      <th>fi</th>\n",
       "      <th>fi.ac</th>\n",
       "    </tr>\n",
       "  </thead>\n",
       "  <tbody>\n",
       "    <tr>\n",
       "      <th>0</th>\n",
       "      <td>[ 1.00,  3.00)</td>\n",
       "      <td>1</td>\n",
       "      <td>0.04</td>\n",
       "      <td>0.04</td>\n",
       "    </tr>\n",
       "    <tr>\n",
       "      <th>1</th>\n",
       "      <td>[ 3.00,  5.00)</td>\n",
       "      <td>5</td>\n",
       "      <td>0.20</td>\n",
       "      <td>0.24</td>\n",
       "    </tr>\n",
       "    <tr>\n",
       "      <th>2</th>\n",
       "      <td>[ 5.00,  7.00)</td>\n",
       "      <td>13</td>\n",
       "      <td>0.52</td>\n",
       "      <td>0.76</td>\n",
       "    </tr>\n",
       "    <tr>\n",
       "      <th>3</th>\n",
       "      <td>[ 7.00,  9.00)</td>\n",
       "      <td>5</td>\n",
       "      <td>0.20</td>\n",
       "      <td>0.96</td>\n",
       "    </tr>\n",
       "    <tr>\n",
       "      <th>4</th>\n",
       "      <td>[ 9.00,  11.00)</td>\n",
       "      <td>1</td>\n",
       "      <td>0.04</td>\n",
       "      <td>1.00</td>\n",
       "    </tr>\n",
       "  </tbody>\n",
       "</table>\n",
       "</div>"
      ]
     },
     "execution_count": 5,
     "metadata": {},
     "output_type": "execute_result"
    }
   ],
   "execution_count": 5
  },
  {
   "metadata": {
    "ExecuteTime": {
     "end_time": "2025-03-02T20:22:39.394551Z",
     "start_time": "2025-03-02T20:22:39.346653Z"
    }
   },
   "cell_type": "code",
   "source": [
    "import matplotlib.patches as mpatches\n",
    "fig, ax = plt.subplots()\n",
    "\n",
    "ax.bar(x=tab['atendimento'], height=tab['ni'])\n",
    "ax.set_xlabel('Atendimento em Minutos')\n",
    "ax.set_ylabel('Frequência')\n",
    "ax.grid(True)\n",
    "plt.show()"
   ],
   "id": "94cf3dd3b9086841",
   "outputs": [
    {
     "data": {
      "text/plain": [
       "<Figure size 640x480 with 1 Axes>"
      ],
      "image/png": "[encoded data removed]"
     },
     "metadata": {},
     "output_type": "display_data"
    }
   ],
   "execution_count": 27
  },
  {
   "metadata": {
    "ExecuteTime": {
     "end_time": "2025-03-02T20:51:47.560888Z",
     "start_time": "2025-03-02T20:51:47.509756Z"
    }
   },
   "cell_type": "code",
   "source": [
    "atendente_1.plot.hist(bins=5)\n",
    "plt.grid(True)\n",
    "plt.show()"
   ],
   "id": "cbde66562f39d423",
   "outputs": [
    {
     "data": {
      "text/plain": [
       "<Figure size 640x480 with 1 Axes>"
      ],
      "image/png": "[encoded data removed]"
     },
     "metadata": {},
     "output_type": "display_data"
    }
   ],
   "execution_count": 30
  },
  {
   "metadata": {},
   "cell_type": "markdown",
   "source": "## Distribuição Normal",
   "id": "baeb25a1815cabc9"
  },
  {
   "metadata": {},
   "cell_type": "markdown",
   "source": [
    "$\\text{média }\\cong\\text{mediana}\\cong\\text{moda}$\n",
    "\n",
    "Como podemos ver existe uma simetria entre os dois lados do gráfico ao redor da média."
   ],
   "id": "2e2067e3715068f0"
  },
  {
   "metadata": {},
   "cell_type": "markdown",
   "source": "![Distribuição Normal](imagens/distribuicao-normal.png)",
   "id": "61db5bf1d079f911"
  },
  {
   "metadata": {},
   "cell_type": "markdown",
   "source": "![Distribuição Normal 2](imagens/normal.png)",
   "id": "b22b5653c6dc2b32"
  },
  {
   "metadata": {},
   "cell_type": "code",
   "outputs": [],
   "execution_count": null,
   "source": "",
   "id": "b8b15abd338d8f73"
  },
  {
   "metadata": {},
   "cell_type": "markdown",
   "source": [
    "O valor de Z para a amostra:\n",
    "\n",
    "$\\Large Z = \\frac{\\bar{x}- \\mu}{\\frac{\\sigma}{\\sqrt{n}}}$"
   ],
   "id": "38dea16cc17895ed"
  },
  {
   "metadata": {},
   "cell_type": "code",
   "outputs": [],
   "execution_count": null,
   "source": "",
   "id": "efa14d37ee577289"
  }
 ],
 "metadata": {
  "kernelspec": {
   "display_name": "Python 3",
   "language": "python",
   "name": "python3"
  },
  "language_info": {
   "codemirror_mode": {
    "name": "ipython",
    "version": 2
   },
   "file_extension": ".py",
   "mimetype": "text/x-python",
   "name": "python",
   "nbconvert_exporter": "python",
   "pygments_lexer": "ipython2",
   "version": "2.7.6"
  }
 },
 "nbformat": 4,
 "nbformat_minor": 5
}
