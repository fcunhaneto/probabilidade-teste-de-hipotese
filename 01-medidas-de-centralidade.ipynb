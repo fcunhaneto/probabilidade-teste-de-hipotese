{
 "cells": [
  {
   "metadata": {},
   "cell_type": "markdown",
   "source": "# Medidas de Centralidade",
   "id": "2248b00c55fb34a8"
  },
  {
   "metadata": {},
   "cell_type": "markdown",
   "source": [
    "<font size=\"4\">\n",
    "\n",
    "1. Média\n",
    "\n",
    "2. Mediana\n",
    "\n",
    "3. Moda\n",
    "\n",
    "</font>"
   ],
   "id": "eab9c10004d1d3e3"
  },
  {
   "metadata": {},
   "cell_type": "markdown",
   "source": [
    "Atendentes de uma empresa, amostra dos tempos de atendimento:\n",
    "\n",
    "atendente 1 = [15, 14, 13, 16, 15]\n",
    "\n",
    "atendente 2 = [10, 15, 10, 12, 10]"
   ],
   "id": "4a3348a33fcc670e"
  },
  {
   "metadata": {
    "ExecuteTime": {
     "end_time": "2025-03-02T16:34:56.072851Z",
     "start_time": "2025-03-02T16:34:55.888908Z"
    }
   },
   "cell_type": "code",
   "source": "import pandas as pd",
   "id": "61c4a43e83e98aac",
   "outputs": [],
   "execution_count": 2
  },
  {
   "metadata": {
    "ExecuteTime": {
     "end_time": "2025-03-02T16:37:17.605299Z",
     "start_time": "2025-03-02T16:37:17.603302Z"
    }
   },
   "cell_type": "code",
   "source": [
    "atendente_1 = [15, 14, 13, 16, 15]\n",
    "atendente_2 = [10, 15, 10, 12, 10]"
   ],
   "id": "4f2150c0706caa41",
   "outputs": [],
   "execution_count": 4
  },
  {
   "metadata": {
    "ExecuteTime": {
     "end_time": "2025-03-02T16:37:18.957973Z",
     "start_time": "2025-03-02T16:37:18.953861Z"
    }
   },
   "cell_type": "code",
   "source": [
    "atendente_1 = pd.Series(atendente_1)\n",
    "atendente_1"
   ],
   "id": "d5b51f74f1da26f5",
   "outputs": [
    {
     "data": {
      "text/plain": [
       "0    15\n",
       "1    14\n",
       "2    13\n",
       "3    16\n",
       "4    15\n",
       "dtype: int64"
      ]
     },
     "execution_count": 5,
     "metadata": {},
     "output_type": "execute_result"
    }
   ],
   "execution_count": 5
  },
  {
   "metadata": {
    "ExecuteTime": {
     "end_time": "2025-03-02T16:37:42.658923Z",
     "start_time": "2025-03-02T16:37:42.656012Z"
    }
   },
   "cell_type": "code",
   "source": [
    "atendente_2 = pd.Series(atendente_2)\n",
    "atendente_2"
   ],
   "id": "244291361fe4f853",
   "outputs": [
    {
     "data": {
      "text/plain": [
       "0    10\n",
       "1    15\n",
       "2    10\n",
       "3    12\n",
       "4    10\n",
       "dtype: int64"
      ]
     },
     "execution_count": 6,
     "metadata": {},
     "output_type": "execute_result"
    }
   ],
   "execution_count": 6
  },
  {
   "metadata": {
    "ExecuteTime": {
     "end_time": "2025-03-02T16:42:04.165886Z",
     "start_time": "2025-03-02T16:42:04.162192Z"
    }
   },
   "cell_type": "code",
   "source": [
    "print('Atendente 1:\\n')\n",
    "\n",
    "print('média = ', atendente_1.mean())\n",
    "print('mediana = ', atendente_1.median())\n",
    "print('moda = ', atendente_1.mode())\n",
    "\n",
    "print('\\n\\nAtendente 2:\\n')\n",
    "print('média = ', atendente_2.mean())\n",
    "print('mediana = ', atendente_2.median())\n",
    "print('moda = ', atendente_2.mode())"
   ],
   "id": "37bae3ae0d7ca0c0",
   "outputs": [
    {
     "name": "stdout",
     "output_type": "stream",
     "text": [
      "Atendente 1:\n",
      "\n",
      "média =  14.6\n",
      "mediana =  15.0\n",
      "moda =  0    15\n",
      "dtype: int64\n",
      "\n",
      "\n",
      "Atendente 2:\n",
      "\n",
      "média =  11.4\n",
      "mediana =  10.0\n",
      "moda =  0    10\n",
      "dtype: int64\n"
     ]
    }
   ],
   "execution_count": 14
  },
  {
   "metadata": {},
   "cell_type": "code",
   "outputs": [],
   "execution_count": null,
   "source": "",
   "id": "9ba3007df6f0c352"
  }
 ],
 "metadata": {
  "kernelspec": {
   "display_name": "Python 3",
   "language": "python",
   "name": "python3"
  },
  "language_info": {
   "codemirror_mode": {
    "name": "ipython",
    "version": 2
   },
   "file_extension": ".py",
   "mimetype": "text/x-python",
   "name": "python",
   "nbconvert_exporter": "python",
   "pygments_lexer": "ipython2",
   "version": "2.7.6"
  }
 },
 "nbformat": 4,
 "nbformat_minor": 5
}
