{
 "cells": [
  {
   "cell_type": "markdown",
   "id": "f10224a55de83ad7",
   "metadata": {},
   "source": [
    "# Roteiro para Teste de Hipótese"
   ]
  },
  {
   "cell_type": "markdown",
   "id": "dd53b50effd2f5c1",
   "metadata": {},
   "source": [
    "<font size=\"3\">\n",
    "<b>Afirmação \"sobre a população\" $\\leftrightarrow$ Verdadira ou Falsa</b>\n",
    "</font>"
   ]
  },
  {
   "cell_type": "markdown",
   "id": "64ade62d-d645-4a46-8fb3-45d4a39db0b3",
   "metadata": {},
   "source": [
    "## 1- Estabelecer"
   ]
  },
  {
   "cell_type": "markdown",
   "id": "74141ec25166d4fd",
   "metadata": {},
   "source": [
    "<font size=\"3\">\n",
    "<span style=\"color:blue\">H<sub>0</sub>  $\\Longrightarrow \\text{ =, }\\leqslant \\text{, } \\geqslant $</span>\n",
    "\n",
    "<span style=\"color:red\">H<sub>a</sub>  $\\Longrightarrow \\text{ } \\neq \\text{, } \\lt  \\text{, } \\gt$</span>\n",
    "\n",
    "<font>"
   ]
  },
  {
   "cell_type": "markdown",
   "id": "5a9d76d0-e84a-4c78-a6c9-2493288bfdbe",
   "metadata": {},
   "source": [
    "## 2- Cácular:"
   ]
  },
  {
   "cell_type": "markdown",
   "id": "bd3c404be837c2d3",
   "metadata": {},
   "source": [
    "$\\Large z_{obs} \\quad \\text{ ou } \\quad t_{obs}$\n",
    "\n",
    "$\\Large z_{obs} \\quad \\text{ quando }$\n",
    "\n",
    "- Distribuição é normal\n",
    "- $\\text{n} \\geqslant \\text{30}$\n",
    "- $\\sigma \\text{ é conhecido}$\n",
    "\n",
    "$\\Large t_{obs} \\quad \\text{ quando }$\n",
    "\n",
    "- Distribuição é normal\n",
    "- $\\text{n} \\lt  \\text{30}$\n",
    "- $\\sigma \\text{ desconhecido}$\n",
    "\n",
    "$\\Large Z_{obs} = \\frac{\\bar{x}- \\mu}{\\frac{\\sigma}{\\sqrt{n}}}$\n",
    "\n",
    "$\\Large t_{obs} = \\frac{(\\bar{x}- \\mu)}{\\frac{S}{\\sqrt{n}}}$"
   ]
  },
  {
   "cell_type": "markdown",
   "id": "b9c87fdd-fb6b-452e-9ddd-f55b5e3f4a7b",
   "metadata": {
    "ExecuteTime": {
     "end_time": "2025-03-05T11:48:43.017944Z",
     "start_time": "2025-03-05T11:48:43.016577Z"
    }
   },
   "source": [
    "## 3- Esboçar o Gráfico"
   ]
  },
  {
   "cell_type": "markdown",
   "id": "df3adacd-6bec-4fcd-8417-2c61fab6b15f",
   "metadata": {},
   "source": [
    "<font size=\"3\">\n",
    "<b>Esboçar gráfico para Z<sub>crítico</sub> ou t<sub>crítico</sub> considerando o nível de significância $\\alpha$</b>\n",
    "</font>"
   ]
  },
  {
   "cell_type": "markdown",
   "id": "b4ae1d2f4a5b6339",
   "metadata": {},
   "source": [
    "![Esboço Gráfio Z Critico](imagens/esboco-grafico-z-critico.png)"
   ]
  },
  {
   "cell_type": "markdown",
   "id": "a9bafe5c4a6d1f97",
   "metadata": {},
   "source": [
    "#### Se o valor observado **pertencer à região crítica**:\n",
    "\n",
    "Rejeitar <span style=\"color:blue\">H<sub>0</sub></span>\n",
    "\n",
    "Aceitar <span style=\"color:red\">H<sub>a</sub></span>"
   ]
  },
  {
   "cell_type": "markdown",
   "id": "6c530ea581e03556",
   "metadata": {},
   "source": [
    "#### Se o valor observado **não pertencer à região crítica**:\n",
    "\n",
    "Aceitar <span style=\"color:blue\">H<sub>0</sub></span>\n",
    "\n",
    "Rejeitar <span style=\"color:red\">H<sub>a</sub></span>"
   ]
  },
  {
   "cell_type": "markdown",
   "id": "bbca041a-d0b2-4193-a1ad-fbe14357901a",
   "metadata": {},
   "source": [
    "## 6- Interpretar o Resultado"
   ]
  },
  {
   "cell_type": "markdown",
   "id": "0bfeac74-c443-460e-b7a5-6f94642dee0b",
   "metadata": {},
   "source": [
    "Interpretar o resultado sempre mencionado que a decisão foi tomada \"**em um nível de significância de tantos %**\""
   ]
  },
  {
   "cell_type": "code",
   "execution_count": null,
   "id": "b6c61711-730e-4bd4-9811-0327509efe50",
   "metadata": {},
   "outputs": [],
   "source": []
  }
 ],
 "metadata": {
  "kernelspec": {
   "display_name": "Python 3 (ipykernel)",
   "language": "python",
   "name": "python3"
  },
  "language_info": {
   "codemirror_mode": {
    "name": "ipython",
    "version": 3
   },
   "file_extension": ".py",
   "mimetype": "text/x-python",
   "name": "python",
   "nbconvert_exporter": "python",
   "pygments_lexer": "ipython3",
   "version": "3.12.9"
  }
 },
 "nbformat": 4,
 "nbformat_minor": 5
}
