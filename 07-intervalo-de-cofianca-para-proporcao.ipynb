{
 "cells": [
  {
   "metadata": {},
   "cell_type": "markdown",
   "source": "# Intervalo de Confiança para Proporção",
   "id": "9106743a0b877147"
  },
  {
   "metadata": {},
   "cell_type": "markdown",
   "source": [
    "<font size=\"4\">Distribuição Normal:</font>\n",
    "\n",
    "$\\text{Se n.p }\\geqslant 5$\n",
    "\n",
    "$\\text{Se n.(1 - p) }\\geqslant 5$"
   ],
   "id": "69159ecdafadcf81"
  },
  {
   "metadata": {},
   "cell_type": "markdown",
   "source": [
    "<font size=\"3\">Para população infinita:</font>\n",
    "\n",
    "$\\Large \\left[ \\hat{p}\\text{ - Z}\\sqrt{\\frac{\\hat{p}(1 - \\hat{p})}{n}}\\text{ , }\\text{  } \\hat{p}\\text{ + Z}\\sqrt{\\frac{\\hat{p}(1 - \\hat{p})}{n}} \\right]$"
   ],
   "id": "f56e8a6a432e4251"
  },
  {
   "metadata": {},
   "cell_type": "markdown",
   "source": [
    "<font size=\"3\">Para população finita:</font>\n",
    "\n",
    "$\\Large \\hat{p} - \\left[ \\text{Z}\\sqrt{\\frac{\\hat{p}(1 - \\hat{p})}{n}}\\sqrt{\\frac{N - n}{N - 1}} \\text{ , } \\hat{p} + \\text{Z}\\sqrt{\\frac{\\hat{p}(1 - \\hat{p})}{n}}\\sqrt{\\frac{N - n}{N - 1}}  \\right]$"
   ],
   "id": "3fa1d978c3f3b863"
  },
  {
   "metadata": {},
   "cell_type": "markdown",
   "source": "Exemplos:",
   "id": "d0a1cb7093f186c0"
  },
  {
   "metadata": {},
   "cell_type": "markdown",
   "source": [
    "Lote 15 peças sendo 10 peças sem defeito e 5 peças com defeito.\n",
    "\n",
    "$\\text{p = }\\frac{10}{15}\\text{ = }\\frac{2}{3}\\text{ = 0,6666}$\n",
    "\n",
    "$\\text{1 - p = 1 - }\\frac{2}{3}\\text{ = 0,3333}$\n",
    "\n",
    "$\\text{n.p = 15}\\frac{2}{3}\\text{ = 10}$\n",
    "\n",
    "$\\text{n.(1 - p) = 15}\\frac{1}{3}\\text{ = 5}$\n",
    "\n",
    "Ok posso usar a distribuição normal."
   ],
   "id": "5d9e90c80966bf37"
  },
  {
   "metadata": {},
   "cell_type": "markdown",
   "source": [
    "Em uma linha de produção de certa peça mecânica, colheu-se uma amostra aleatória de 100 itens, constatando-se 8 peças defeituosas. Construir com intervalo de 95% de confiança para a proporção populacional de peças defeitusas.\n",
    "\n",
    "n = 100\n",
    "\n",
    "9 = defeituosas = 8\n",
    "\n",
    "p = 8/100 = 0.08\n",
    "\n",
    "q = (1 - p) = 1 - 0.08 = 0.92\n",
    "\n",
    "100 * 0.08 = 8\n",
    "100 * 0.92 = 92\n",
    "\n",
    "Posso usar distribuição normal\n",
    "\n",
    "Z = 1.96"
   ],
   "id": "acd7afb807fbaf8e"
  },
  {
   "metadata": {
    "ExecuteTime": {
     "end_time": "2025-03-04T12:06:05.706696Z",
     "start_time": "2025-03-04T12:06:05.704563Z"
    }
   },
   "cell_type": "code",
   "source": [
    "import math\n",
    "\n",
    "e = 1.96 * math.sqrt(0.08 * (1 - 0.08)/100)\n",
    "print(e)"
   ],
   "id": "b15213886687e808",
   "outputs": [
    {
     "name": "stdout",
     "output_type": "stream",
     "text": [
      "0.0531734670677021\n"
     ]
    }
   ],
   "execution_count": 1
  },
  {
   "metadata": {
    "ExecuteTime": {
     "end_time": "2025-03-04T12:12:51.926559Z",
     "start_time": "2025-03-04T12:12:51.924416Z"
    }
   },
   "cell_type": "code",
   "source": [
    "a1 = round((.08 - e), 4)\n",
    "a2 = round((.08 + e), 4)\n",
    "\n",
    "print('Inetervalo de confiança = [{0:.2f}, {1:.2f}]'.format(a1, a2))\n",
    "print('A proporção de todas as peças com defeito estarão entre {0:.0f}% e {1:.0f}%'.format(a1*100, a2*100))"
   ],
   "id": "6d9872f6b658c5d3",
   "outputs": [
    {
     "name": "stdout",
     "output_type": "stream",
     "text": [
      "Inetervalo de confiança = [0.03, 0.13]\n",
      "A proporção de todas as peças com defeito estarão entre 3% e 13%\n"
     ]
    }
   ],
   "execution_count": 7
  },
  {
   "metadata": {},
   "cell_type": "code",
   "outputs": [],
   "execution_count": null,
   "source": "",
   "id": "212942ad45588572"
  }
 ],
 "metadata": {
  "kernelspec": {
   "display_name": "Python 3",
   "language": "python",
   "name": "python3"
  },
  "language_info": {
   "codemirror_mode": {
    "name": "ipython",
    "version": 2
   },
   "file_extension": ".py",
   "mimetype": "text/x-python",
   "name": "python",
   "nbconvert_exporter": "python",
   "pygments_lexer": "ipython2",
   "version": "2.7.6"
  }
 },
 "nbformat": 4,
 "nbformat_minor": 5
}
