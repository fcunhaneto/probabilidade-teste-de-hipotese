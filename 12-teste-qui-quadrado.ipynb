{
 "cells": [
  {
   "cell_type": "markdown",
   "id": "ef95f2e117c280a",
   "metadata": {},
   "source": [
    "# Teste Qui-quadrado"
   ]
  },
  {
   "cell_type": "markdown",
   "id": "3e267a00-dff4-46b7-804c-5a29c805859c",
   "metadata": {},
   "source": [
    "<font size=\"5\">\n",
    "$\\text{X}^{2} = \\sum_{i}^{j}\\frac{(\\theta - E)^{2}}{E}$\n",
    "</font>"
   ]
  },
  {
   "cell_type": "markdown",
   "id": "59da7357-217a-4bfb-a72a-2810a8c26ae6",
   "metadata": {},
   "source": [
    "<font size=\"4\">\n",
    "$\\theta \\Rightarrow $ frequência da amostra\n",
    "\n",
    "E $\\Rightarrow $ frequência esperada\n",
    "</font>"
   ]
  },
  {
   "cell_type": "markdown",
   "id": "c29bd7eb-1935-473c-bea2-daaafb828a65",
   "metadata": {},
   "source": [
    "## Para o teste do Qui-quadrado precisa do grau liberadade\n",
    "\n",
    "<font size=\"5\">\n",
    "Grau de liberdade é o número de categorias menos um = K -1\n",
    "</font>"
   ]
  },
  {
   "cell_type": "markdown",
   "id": "f78c28fe-14ab-47df-87ab-0d4dcdb05f9e",
   "metadata": {},
   "source": []
  },
  {
   "cell_type": "markdown",
   "id": "6ce8d6d142269482",
   "metadata": {},
   "source": [
    "### Estilo Musical da População\n",
    "\n",
    "| Estilo musical |  %  |\n",
    "|:---------------|:---:|\n",
    "| Clássica       | 4%  |\n",
    "| Country         | 36% |\n",
    "| Gospel         | 11% |\n",
    "| Erudita        | 29% |\n",
    "| Pop            | 18% |\n",
    "| Rock           | 29% |"
   ]
  },
  {
   "cell_type": "markdown",
   "id": "85de9ff5645b31be",
   "metadata": {},
   "source": [
    "### Frequência da amostra de 500 pessoas\n",
    "Teste n = 500\n",
    "\n",
    "| Estilo músical |  n  |\n",
    "|:---------------|:---:|\n",
    "| Clássica       |  8  |\n",
    "| Coutry         | 210 |\n",
    "| Gospel         | 72  |\n",
    "| Erudita        | 10  |\n",
    "| Pop            | 75  |\n",
    "| Rock           | 125 |"
   ]
  },
  {
   "cell_type": "markdown",
   "id": "91620e3a6dcd12cf",
   "metadata": {},
   "source": [
    "### Frequência esperada para para 500 pessoas\n",
    "\n",
    "| Estilo músical |  n  |\n",
    "|:---------------|:---:|\n",
    "| Clássica       | 20  |\n",
    "| Coutry         | 180 |\n",
    "| Gospel         | 55  |\n",
    "| Erudita        | 10  |\n",
    "| Pop            | 90  |\n",
    "| Rock           | 145 |"
   ]
  },
  {
   "cell_type": "markdown",
   "id": "72d44ab984afb0b",
   "metadata": {},
   "source": [
    "<font size=\"4\">\n",
    "<span style=\"color:blue\">H<sub>0</sub></span>: O estilo musical da população é dado pela tabela da população.\n",
    "\n",
    "<span style=\"color:red\">H<sub>a</sub></span>: O estilo musical da população é diferente do dado pela tabela da população."
   ]
  },
  {
   "cell_type": "code",
   "execution_count": 10,
   "id": "1739cd547b5ec094",
   "metadata": {
    "ExecuteTime": {
     "end_time": "2025-03-06T14:26:38.223128Z",
     "start_time": "2025-03-06T14:26:38.221777Z"
    }
   },
   "outputs": [
    {
     "name": "stdout",
     "output_type": "stream",
     "text": [
      "\n",
      "(amostra - esperdao)2 =  [7.2        5.         5.25454545 0.         2.5        2.75862069]\n",
      "\n",
      "Q2 =  22.7132 \n",
      "\n"
     ]
    }
   ],
   "source": [
    "import numpy as np\n",
    "\n",
    "amostra = np.array([8, 210, 72, 10, 75, 125])\n",
    "esperado = np.array([20, 180, 55, 10, 90, 145]) \n",
    "\n",
    "a_menos_e = (amostra - esperado)**2/esperado\n",
    "\n",
    "print('\\n(amostra - esperdao)2 = ', a_menos_e)\n",
    "\n",
    "q2 = np.sum(a_menos_e)\n",
    "print('\\nQ2 = ', round(q2, 4), '\\n')"
   ]
  },
  {
   "cell_type": "code",
   "execution_count": 11,
   "id": "1eec8f118b0c378e",
   "metadata": {},
   "outputs": [
    {
     "name": "stdout",
     "output_type": "stream",
     "text": [
      "grau de liberdade =  5\n"
     ]
    }
   ],
   "source": [
    "gl = np.size(esperado) - 1\n",
    "print('grau de liberdade = ', gl)"
   ]
  },
  {
   "cell_type": "code",
   "execution_count": 15,
   "id": "0ddb49fe-773d-49f1-b762-463008b71bf6",
   "metadata": {},
   "outputs": [
    {
     "name": "stdout",
     "output_type": "stream",
     "text": [
      "\n",
      "Q2 calculado =  22.7132 \n",
      "\n",
      "Q2 para 1% =  15.09 \n",
      "\n",
      "Q2 calculado encontre-se dentro da área critíca\n",
      "\n"
     ]
    }
   ],
   "source": [
    "print('\\nQ2 calculado = ', round(q2, 4), '\\n')\n",
    "print('Q2 para 1% = ', 15.09, '\\n')\n",
    "print('Q2 calculado encontre-se dentro da área critíca\\n')"
   ]
  },
  {
   "cell_type": "code",
   "execution_count": null,
   "id": "b751edf6-7425-4179-b189-d0a09dc88e98",
   "metadata": {},
   "outputs": [],
   "source": []
  }
 ],
 "metadata": {
  "kernelspec": {
   "display_name": "Python 3 (ipykernel)",
   "language": "python",
   "name": "python3"
  },
  "language_info": {
   "codemirror_mode": {
    "name": "ipython",
    "version": 3
   },
   "file_extension": ".py",
   "mimetype": "text/x-python",
   "name": "python",
   "nbconvert_exporter": "python",
   "pygments_lexer": "ipython3",
   "version": "3.12.9"
  }
 },
 "nbformat": 4,
 "nbformat_minor": 5
}
